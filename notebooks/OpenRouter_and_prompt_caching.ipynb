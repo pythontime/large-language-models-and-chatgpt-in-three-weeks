{
 "cells": [
  {
   "cell_type": "markdown",
   "id": "83c9d3a9-8249-46e8-af99-3ec3f5f87f51",
   "metadata": {},
   "source": [
    "# OpenRouter + Prompt Caching"
   ]
  },
  {
   "cell_type": "code",
   "execution_count": 2,
   "id": "502d1b85-be35-473f-b745-cec6c64cbbe8",
   "metadata": {},
   "outputs": [
    {
     "name": "stdout",
     "output_type": "stream",
     "text": [
      "I'm an AI assistant designed by Meta. I'm here to answer your questions, share interesting ideas and maybe even surprise you with a fresh perspective. What's on your mind?\n"
     ]
    }
   ],
   "source": [
    "from openai import OpenAI\n",
    "from os import getenv\n",
    "\n",
    "# gets API Key from environment variable OPENAI_API_KEY\n",
    "client = OpenAI(\n",
    "  base_url=\"https://openrouter.ai/api/v1\",\n",
    "  api_key=getenv(\"OPENROUTER_API_KEY\"),\n",
    ")\n",
    "\n",
    "completion = client.chat.completions.create(\n",
    "  model=\"meta-llama/llama-4-maverick\",  # https://openrouter.ai/meta-llama/llama-4-maverick\n",
    "  messages=[\n",
    "    {\n",
    "      \"role\": \"user\",\n",
    "      \"content\": \"Who are you?\",\n",
    "    },\n",
    "  ],\n",
    ")\n",
    "print(completion.choices[0].message.content)\n"
   ]
  },
  {
   "cell_type": "markdown",
   "id": "2202910f-7bba-4721-aafe-7b47e206af67",
   "metadata": {},
   "source": [
    "# Using Langchain instead of API (Sinan's Recommendation)"
   ]
  },
  {
   "cell_type": "code",
   "execution_count": 3,
   "id": "da801cbd-ab25-4fa8-ae6f-96c780d0cdd4",
   "metadata": {},
   "outputs": [
    {
     "name": "stderr",
     "output_type": "stream",
     "text": [
      "/Users/sinanozdemir/Library/Python/3.9/lib/python/site-packages/urllib3/__init__.py:35: NotOpenSSLWarning: urllib3 v2 only supports OpenSSL 1.1.1+, currently the 'ssl' module is compiled with 'LibreSSL 2.8.3'. See: https://github.com/urllib3/urllib3/issues/3020\n",
      "  warnings.warn(\n"
     ]
    }
   ],
   "source": [
    "from langchain_core.prompts import ChatPromptTemplate\n",
    "\n",
    "template = ChatPromptTemplate([\n",
    "    (\"system\", \"You are a helpful AI bot. Your name is {name} and you answer questions.\"),\n",
    "    (\"human\", \"{question}\"),\n",
    "])\n",
    "\n",
    "question = \"What NFL team won the Super Bowl in the year Sinan Ozdemir was born?\"\n",
    "\n",
    "\n",
    "filled_in_prompt = template.invoke(\n",
    "    {\n",
    "        \"name\": \"Kylie\",\n",
    "        \"question\": question\n",
    "    }\n",
    ")"
   ]
  },
  {
   "cell_type": "code",
   "execution_count": 4,
   "id": "e5b1bde0-135e-4f81-a605-3a0ded162828",
   "metadata": {},
   "outputs": [
    {
     "data": {
      "text/plain": [
       "ChatPromptValue(messages=[SystemMessage(content='You are a helpful AI bot. Your name is Kylie and you answer questions.', additional_kwargs={}, response_metadata={}), HumanMessage(content='What NFL team won the Super Bowl in the year Sinan Ozdemir was born?', additional_kwargs={}, response_metadata={})])"
      ]
     },
     "execution_count": 4,
     "metadata": {},
     "output_type": "execute_result"
    }
   ],
   "source": [
    "filled_in_prompt"
   ]
  },
  {
   "cell_type": "code",
   "execution_count": 5,
   "id": "3f6d8c34-1123-468f-9436-e188a35a1787",
   "metadata": {},
   "outputs": [
    {
     "data": {
      "text/plain": [
       "AIMessage(content='Sinan Ozdemir was born in 1992. The NFL team that won Super Bowl XXVI in 1992 was the Washington Redskins. They defeated the Buffalo Bills 37-24 on January 26, 1992.', additional_kwargs={'refusal': None}, response_metadata={'token_usage': {'completion_tokens': 51, 'prompt_tokens': 52, 'total_tokens': 103, 'completion_tokens_details': None, 'prompt_tokens_details': None}, 'model_name': 'meta-llama/llama-4-maverick', 'system_fingerprint': None, 'id': 'gen-1748881137-VVX02yXHWBxxmxSnrgtH', 'service_tier': None, 'finish_reason': 'stop', 'logprobs': None}, id='run--b0918410-f23e-4b76-97af-0a659906f7f0-0', usage_metadata={'input_tokens': 52, 'output_tokens': 51, 'total_tokens': 103, 'input_token_details': {}, 'output_token_details': {}})"
      ]
     },
     "execution_count": 5,
     "metadata": {},
     "output_type": "execute_result"
    }
   ],
   "source": [
    "from langchain_openai import ChatOpenAI\n",
    "\n",
    "llm = ChatOpenAI(\n",
    "  openai_api_key=getenv(\"OPENROUTER_API_KEY\"),\n",
    "  openai_api_base=\"https://openrouter.ai/api/v1\",\n",
    "  model_name=\"meta-llama/llama-4-maverick\",\n",
    ")\n",
    "\n",
    "\n",
    "ai_message = llm.invoke(filled_in_prompt)\n",
    "ai_message"
   ]
  },
  {
   "cell_type": "code",
   "execution_count": 6,
   "id": "ff568426-793e-441c-9a54-4b831adf7422",
   "metadata": {},
   "outputs": [
    {
     "data": {
      "text/plain": [
       "'Sinan Ozdemir was born in 1992. The NFL team that won Super Bowl XXVI in 1992 was the Washington Redskins. They defeated the Buffalo Bills 37-24 on January 26, 1992.'"
      ]
     },
     "execution_count": 6,
     "metadata": {},
     "output_type": "execute_result"
    }
   ],
   "source": [
    "ai_message.content"
   ]
  },
  {
   "cell_type": "code",
   "execution_count": 7,
   "id": "05892dc3-17cb-46bb-87c1-995e9e52396a",
   "metadata": {},
   "outputs": [
    {
     "data": {
      "text/plain": [
       "{'token_usage': {'completion_tokens': 51,\n",
       "  'prompt_tokens': 52,\n",
       "  'total_tokens': 103,\n",
       "  'completion_tokens_details': None,\n",
       "  'prompt_tokens_details': None},\n",
       " 'model_name': 'meta-llama/llama-4-maverick',\n",
       " 'system_fingerprint': None,\n",
       " 'id': 'gen-1748881137-VVX02yXHWBxxmxSnrgtH',\n",
       " 'service_tier': None,\n",
       " 'finish_reason': 'stop',\n",
       " 'logprobs': None}"
      ]
     },
     "execution_count": 7,
     "metadata": {},
     "output_type": "execute_result"
    }
   ],
   "source": [
    "ai_message.response_metadata"
   ]
  },
  {
   "cell_type": "code",
   "execution_count": 8,
   "id": "3a3fd094-119f-49be-9ce6-23f060683a43",
   "metadata": {},
   "outputs": [
    {
     "data": {
      "text/plain": [
       "{'input_tokens': 52,\n",
       " 'output_tokens': 51,\n",
       " 'total_tokens': 103,\n",
       " 'input_token_details': {},\n",
       " 'output_token_details': {}}"
      ]
     },
     "execution_count": 8,
     "metadata": {},
     "output_type": "execute_result"
    }
   ],
   "source": [
    "ai_message.usage_metadata"
   ]
  },
  {
   "cell_type": "code",
   "execution_count": 9,
   "id": "545cc78c-5b02-4984-a7e0-760e46563eb5",
   "metadata": {},
   "outputs": [],
   "source": [
    "# add the AI message to the thread\n",
    "filled_in_prompt.messages.append(ai_message)"
   ]
  },
  {
   "cell_type": "code",
   "execution_count": 10,
   "id": "59fcf530-d5e8-477f-b58e-a15c55fdfe84",
   "metadata": {},
   "outputs": [
    {
     "data": {
      "text/plain": [
       "AIMessage(content=\"My name is Kylie. I'm here to help answer your questions!\", additional_kwargs={'refusal': None}, response_metadata={'token_usage': {'completion_tokens': 15, 'prompt_tokens': 115, 'total_tokens': 130, 'completion_tokens_details': None, 'prompt_tokens_details': None}, 'model_name': 'meta-llama/llama-4-maverick', 'system_fingerprint': None, 'id': 'gen-1748881137-o9MlFU1kOtfTUwD6spff', 'service_tier': None, 'finish_reason': 'stop', 'logprobs': None}, id='run--c2c47b9d-a77d-490f-a297-331225f19279-0', usage_metadata={'input_tokens': 115, 'output_tokens': 15, 'total_tokens': 130, 'input_token_details': {}, 'output_token_details': {}})"
      ]
     },
     "execution_count": 10,
     "metadata": {},
     "output_type": "execute_result"
    }
   ],
   "source": [
    "from langchain_core.messages import HumanMessage\n",
    "filled_in_prompt.messages.append(HumanMessage(content=\"and what's your name?\"))\n",
    "\n",
    "\n",
    "new_ai_message = llm.invoke(filled_in_prompt)\n",
    "new_ai_message"
   ]
  },
  {
   "cell_type": "code",
   "execution_count": 11,
   "id": "91fca627-5b5f-4434-85af-f1502347a248",
   "metadata": {},
   "outputs": [
    {
     "data": {
      "text/plain": [
       "\"My name is Kylie. I'm here to help answer your questions!\""
      ]
     },
     "execution_count": 11,
     "metadata": {},
     "output_type": "execute_result"
    }
   ],
   "source": [
    "new_ai_message.content"
   ]
  },
  {
   "cell_type": "code",
   "execution_count": 12,
   "id": "c7c931e6-7221-42c2-86dc-c19a7a260a91",
   "metadata": {},
   "outputs": [
    {
     "data": {
      "text/plain": [
       "{'token_usage': {'completion_tokens': 15,\n",
       "  'prompt_tokens': 115,\n",
       "  'total_tokens': 130,\n",
       "  'completion_tokens_details': None,\n",
       "  'prompt_tokens_details': None},\n",
       " 'model_name': 'meta-llama/llama-4-maverick',\n",
       " 'system_fingerprint': None,\n",
       " 'id': 'gen-1748881137-o9MlFU1kOtfTUwD6spff',\n",
       " 'service_tier': None,\n",
       " 'finish_reason': 'stop',\n",
       " 'logprobs': None}"
      ]
     },
     "execution_count": 12,
     "metadata": {},
     "output_type": "execute_result"
    }
   ],
   "source": [
    "new_ai_message.response_metadata"
   ]
  },
  {
   "cell_type": "markdown",
   "id": "3faef114-2388-486e-9784-75cd2cdeebb1",
   "metadata": {},
   "source": [
    "# Prompt Caching with OpenRouter + OpenAI"
   ]
  },
  {
   "cell_type": "code",
   "execution_count": 13,
   "id": "63bab93c-d895-4486-a5a3-20756fb8dc2b",
   "metadata": {},
   "outputs": [],
   "source": [
    "llm_with_caching = ChatOpenAI(\n",
    "  openai_api_key=getenv(\"OPENROUTER_API_KEY\"),\n",
    "  openai_api_base=\"https://openrouter.ai/api/v1\",\n",
    "  model_name=\"openai/gpt-4.1-nano\",\n",
    ")\n"
   ]
  },
  {
   "cell_type": "code",
   "execution_count": null,
   "id": "87660a1e-d05e-4968-83d3-bf346bacfcbf",
   "metadata": {},
   "outputs": [],
   "source": []
  },
  {
   "cell_type": "code",
   "execution_count": 14,
   "id": "5dbaa282-d2e4-4633-a030-ca18fc140fb1",
   "metadata": {},
   "outputs": [
    {
     "data": {
      "application/vnd.jupyter.widget-view+json": {
       "model_id": "5acee2e92a2d4945ae8ccf2ca9480b9f",
       "version_major": 2,
       "version_minor": 0
      },
      "text/plain": [
       "Resolving data files:   0%|          | 0/26 [00:00<?, ?it/s]"
      ]
     },
     "metadata": {},
     "output_type": "display_data"
    },
    {
     "data": {
      "application/vnd.jupyter.widget-view+json": {
       "model_id": "a4a4de2fea1a4f35825a2b6371dbf8aa",
       "version_major": 2,
       "version_minor": 0
      },
      "text/plain": [
       "Resolving data files:   0%|          | 0/26 [00:00<?, ?it/s]"
      ]
     },
     "metadata": {},
     "output_type": "display_data"
    }
   ],
   "source": [
    "from datasets import load_dataset\n",
    "\n",
    "# https://huggingface.co/datasets/mandarjoshi/trivia_qa is a big dataset, only grabbing the first 500!\n",
    "\n",
    "ds_stream = load_dataset(\"mandarjoshi/trivia_qa\", \"rc\", split=\"train\", streaming=True)\n",
    "first_500 = [x for _, x in zip(range(500), ds_stream)]\n"
   ]
  },
  {
   "cell_type": "code",
   "execution_count": 15,
   "id": "cb786a40-06b8-490b-a6a0-0b5a74c9f90a",
   "metadata": {},
   "outputs": [],
   "source": [
    "all_wikis = [f['entity_pages']['wiki_context'][0] for f in first_500 if 'entity_pages' in f and len(f['entity_pages']['wiki_context'])]"
   ]
  },
  {
   "cell_type": "code",
   "execution_count": 16,
   "id": "ab52f430-e464-4ba1-b6b4-de603629aadf",
   "metadata": {},
   "outputs": [],
   "source": [
    "import random\n",
    "random_all_wikis = random.sample(all_wikis, 20)"
   ]
  },
  {
   "cell_type": "code",
   "execution_count": 17,
   "id": "9c4635a1-08c1-42da-866c-3652346a0cad",
   "metadata": {},
   "outputs": [
    {
     "data": {
      "text/plain": [
       "(392, 20)"
      ]
     },
     "execution_count": 17,
     "metadata": {},
     "output_type": "execute_result"
    }
   ],
   "source": [
    "len(all_wikis), len(random_all_wikis)"
   ]
  },
  {
   "cell_type": "code",
   "execution_count": 18,
   "id": "4a721322-bd05-4ccf-9621-3479844a8d47",
   "metadata": {
    "scrolled": true
   },
   "outputs": [
    {
     "name": "stdout",
     "output_type": "stream",
     "text": [
      "Question: Which American-born Sinclair won the Nobel Prize for Literature in 1930?\n",
      "Seconds: 10.03646993637085. Total Tokens: 149517.  Cached Tokens: 0\n",
      "Question: Where in England was Dame Judi Dench born?\n",
      "Seconds: 2.2446017265319824. Total Tokens: 149505.  Cached Tokens: 149248\n",
      "Question: In which decade did Billboard magazine first publish and American hit chart?\n",
      "Seconds: 4.771224737167358. Total Tokens: 149512.  Cached Tokens: 149248\n",
      "Question: From which country did Angola achieve independence in 1975?\n",
      "Seconds: 2.7315890789031982. Total Tokens: 149506.  Cached Tokens: 149376\n",
      "Question: Which city does David Soul come from?\n",
      "Seconds: 2.725454092025757. Total Tokens: 149499.  Cached Tokens: 0\n",
      "Question: Who won Super Bowl XX?\n",
      "Seconds: 2.2838401794433594. Total Tokens: 149499.  Cached Tokens: 149248\n",
      "Question: Which was the first European country to abolish capital punishment?\n",
      "Seconds: 2.40966796875. Total Tokens: 149507.  Cached Tokens: 149248\n",
      "Question: In which country did he widespread use of ISDN begin in 1988?\n",
      "Seconds: 1.949854850769043. Total Tokens: 149519.  Cached Tokens: 149376\n",
      "Question: What is Bruce Willis' real first name?\n",
      "Seconds: 5.75259804725647. Total Tokens: 149501.  Cached Tokens: 149248\n",
      "Question: Which William wrote the novel Lord Of The Flies?\n",
      "Seconds: 1.8450350761413574. Total Tokens: 149506.  Cached Tokens: 149248\n"
     ]
    }
   ],
   "source": [
    "# per documentation: \"There is a minimum prompt size of 1024 tokens.\" for OpenAI\n",
    "#  https://openrouter.ai/docs/features/prompt-caching\n",
    "\n",
    "import time\n",
    "template = ChatPromptTemplate([\n",
    "    (\"system\", \"You are a helpful AI bot and you answer questions. Here is some data to use {context}\"),\n",
    "    (\"human\", \"{question}\"),\n",
    "])\n",
    "\n",
    "time_to_finish = []\n",
    "for datapoint in first_500[:10]:\n",
    "    print(f\"Question: {datapoint['question']}\")\n",
    "\n",
    "    filled_in_prompt = template.invoke(\n",
    "        {\n",
    "            \"context\": '\\n'.join(random_all_wikis),\n",
    "            \"question\": datapoint['question']\n",
    "        }\n",
    "    )\n",
    "    time_before = time.time()\n",
    "    ai_message = llm_with_caching.invoke(filled_in_prompt)\n",
    "    time_after = time.time()\n",
    "    seconds = (time_after - time_before)\n",
    "    time_to_finish.append(seconds)\n",
    "    token_usage = ai_message.response_metadata['token_usage']\n",
    "    print(f\"Seconds: {seconds}. Total Tokens: {token_usage['total_tokens']}.  Cached Tokens: {token_usage['prompt_tokens_details']['cached_tokens']}\")"
   ]
  },
  {
   "cell_type": "code",
   "execution_count": 19,
   "id": "a1eb2725-80b5-4197-b2ad-1da49e6da48b",
   "metadata": {},
   "outputs": [
    {
     "data": {
      "image/png": "[encoded data removed]",
      "text/plain": [
       "<Figure size 1000x500 with 1 Axes>"
      ]
     },
     "metadata": {},
     "output_type": "display_data"
    }
   ],
   "source": [
    "import matplotlib.pyplot as plt\n",
    "\n",
    "# Plotting\n",
    "plt.figure(figsize=(10, 5))\n",
    "plt.plot(time_to_finish, marker='o')\n",
    "plt.title(\"Time to Finish Each Prompt (in seconds)\")\n",
    "plt.xlabel(\"Prompt Index\")\n",
    "plt.ylabel(\"Time (seconds)\")\n",
    "plt.grid(True)\n",
    "plt.tight_layout()\n",
    "plt.show()"
   ]
  },
  {
   "cell_type": "code",
   "execution_count": null,
   "id": "d836533d-8493-4ce8-a725-90a329ba4d3a",
   "metadata": {},
   "outputs": [],
   "source": []
  },
  {
   "cell_type": "code",
   "execution_count": 20,
   "id": "dc90b2b0-710e-46b7-9de2-84797796b498",
   "metadata": {},
   "outputs": [
    {
     "name": "stdout",
     "output_type": "stream",
     "text": [
      "Seconds: 2.941303014755249. Total Tokens: 149511.  Cached Tokens: 0\n"
     ]
    }
   ],
   "source": [
    "# break the cache entirely by adding a single token\n",
    "\n",
    "filled_in_prompt = template.invoke(\n",
    "    {\n",
    "        \"context\": \"Here is that context:\\n\" + '\\n'.join(random_all_wikis),\n",
    "        \"question\": datapoint['question']\n",
    "    }\n",
    ")\n",
    "time_before = time.time()\n",
    "ai_message = llm_with_caching.invoke(filled_in_prompt)\n",
    "time_after = time.time()\n",
    "seconds = (time_after - time_before)\n",
    "time_to_finish.append(seconds)\n",
    "token_usage = ai_message.response_metadata['token_usage']\n",
    "print(f\"Seconds: {seconds}. Total Tokens: {token_usage['total_tokens']}.  Cached Tokens: {token_usage['prompt_tokens_details']['cached_tokens']}\")"
   ]
  },
  {
   "cell_type": "code",
   "execution_count": null,
   "id": "4298f0c7-84ea-4846-9b35-8fa343b4a36b",
   "metadata": {},
   "outputs": [],
   "source": []
  },
  {
   "cell_type": "code",
   "execution_count": null,
   "id": "1d96395b-1032-4704-9682-7bab54f4ce6e",
   "metadata": {},
   "outputs": [],
   "source": []
  },
  {
   "cell_type": "code",
   "execution_count": null,
   "id": "60be101c-ffaf-4336-a998-17f5710d5b79",
   "metadata": {},
   "outputs": [],
   "source": []
  },
  {
   "cell_type": "code",
   "execution_count": null,
   "id": "b7b0130b-999c-4a09-9029-749afec56f3b",
   "metadata": {},
   "outputs": [],
   "source": []
  }
 ],
 "metadata": {
  "kernelspec": {
   "display_name": "Python (/usr/bin/python3)",
   "language": "python",
   "name": "my_python3"
  },
  "language_info": {
   "codemirror_mode": {
    "name": "ipython",
    "version": 3
   },
   "file_extension": ".py",
   "mimetype": "text/x-python",
   "name": "python",
   "nbconvert_exporter": "python",
   "pygments_lexer": "ipython3",
   "version": "3.9.6"
  }
 },
 "nbformat": 4,
 "nbformat_minor": 5
}
