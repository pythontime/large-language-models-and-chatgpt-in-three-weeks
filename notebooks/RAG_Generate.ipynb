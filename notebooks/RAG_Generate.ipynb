{
 "cells": [
  {
   "cell_type": "markdown",
   "metadata": {
    "id": "mqFr1pdYJUF4"
   },
   "source": [
    "# Putting the G(enerate) in RAG"
   ]
  },
  {
   "cell_type": "code",
   "execution_count": 2,
   "metadata": {
    "id": "l8aCLNE-HxjF"
   },
   "outputs": [],
   "source": [
    "from supabase import create_client, Client\n",
    "import datetime\n",
    "from pinecone import Pinecone, ServerlessSpec\n",
    "\n",
    "from typing import Dict, Optional, Any\n",
    "import os\n",
    "from openai import OpenAI\n",
    "import pandas as pd\n",
    "\n",
    "from pydantic import BaseModel, Field\n",
    "from typing import List, Dict, Tuple"
   ]
  },
  {
   "cell_type": "code",
   "execution_count": 3,
   "metadata": {
    "id": "QdjM9S4YrFcQ"
   },
   "outputs": [],
   "source": [
    "url: str = os.environ.get('SUPABASE_URL')\n",
    "key: str = os.environ.get('SUPABASE_KEY')\n",
    "supabase: Client = create_client(url, key)"
   ]
  },
  {
   "cell_type": "markdown",
   "metadata": {},
   "source": [
    "# Using OpenAI as our Generator"
   ]
  },
  {
   "cell_type": "code",
   "execution_count": 15,
   "metadata": {
    "id": "Z-f5mP9o0ZRJ"
   },
   "outputs": [],
   "source": [
    "# Initialize the OpenAI client with the API key from user data\n",
    "client = OpenAI(api_key=os.environ.get('OPENAI_API_KEY'))\n",
    "\n",
    "# Define a class for the Chat Language Model\n",
    "class OpenAIChatLLM(BaseModel):\n",
    "    model: str = 'gpt-4o'  # Default model to use\n",
    "    temperature: float = 0.0  # Default temperature for generating responses\n",
    "\n",
    "    # Method to generate a response from the model based on the provided prompt\n",
    "    def generate(self, prompt: str, stop: List[str] = None):\n",
    "        # Create a completion request to the OpenAI API with the given parameters\n",
    "        response = client.chat.completions.create(\n",
    "            model=self.model,\n",
    "            messages=[{\"role\": \"user\", \"content\": prompt}],\n",
    "            temperature=self.temperature,\n",
    "            stop=stop\n",
    "        )\n",
    "\n",
    "        # Insert the details of the prompt and response into the 'cost_projecting' table in Supabase\n",
    "        supabase.table('cost_projecting').insert({\n",
    "            'prompt': prompt,\n",
    "            'response': response.choices[0].message.content,\n",
    "            'input_tokens': response.usage.prompt_tokens,\n",
    "            'output_tokens': response.usage.completion_tokens,\n",
    "            'model': self.model,\n",
    "            'inference_params': {\n",
    "                'temperature': self.temperature,\n",
    "                'stop': stop\n",
    "            },\n",
    "            'is_openai': True,\n",
    "            'app': 'RAG'\n",
    "        }).execute()\n",
    "\n",
    "        # Return the generated response content\n",
    "        return response.choices[0].message.content\n"
   ]
  },
  {
   "cell_type": "code",
   "execution_count": 16,
   "metadata": {
    "colab": {
     "base_uri": "https://localhost:8080/",
     "height": 35
    },
    "id": "g4KCGB3tUYYP",
    "outputId": "90deb2d6-a99b-4579-ed77-0b29310f70b2"
   },
   "outputs": [
    {
     "data": {
      "text/plain": [
       "'Hello! How can I assist you today?'"
      ]
     },
     "execution_count": 16,
     "metadata": {},
     "output_type": "execute_result"
    }
   ],
   "source": [
    "c = OpenAIChatLLM()\n",
    "c.generate('hi')"
   ]
  },
  {
   "cell_type": "code",
   "execution_count": 17,
   "metadata": {
    "colab": {
     "base_uri": "https://localhost:8080/"
    },
    "id": "1zO716qOKDGv",
    "outputId": "9a75c204-8c24-4bb0-ec63-6caeb88865a7"
   },
   "outputs": [
    {
     "data": {
      "text/plain": [
       "1536"
      ]
     },
     "execution_count": 17,
     "metadata": {},
     "output_type": "execute_result"
    }
   ],
   "source": [
    "pinecone_key = os.environ.get('PINECONE_API_KEY')\n",
    "INDEX_NAME = 'semantic-search-rag'\n",
    "ENGINE = 'text-embedding-3-small'\n",
    "NAMESPACE = 'default'\n",
    "\n",
    "pc = Pinecone(\n",
    "    api_key=pinecone_key\n",
    ")\n",
    "\n",
    "# helper functions to get lists of embeddings from the OpenAI API\n",
    "def get_embedding(text, engine=ENGINE):\n",
    "    response = client.embeddings.create(\n",
    "        input=[text],\n",
    "        model=engine\n",
    "    )\n",
    "    return response.data[0].embedding\n",
    "\n",
    "len(get_embedding('hi'))"
   ]
  },
  {
   "cell_type": "code",
   "execution_count": null,
   "metadata": {
    "id": "vR4aYMURKkgi"
   },
   "outputs": [],
   "source": []
  },
  {
   "cell_type": "code",
   "execution_count": 18,
   "metadata": {
    "colab": {
     "base_uri": "https://localhost:8080/"
    },
    "id": "1blAL-k0Kpcw",
    "outputId": "dd15a30a-7d4e-4f9e-cb6a-10ace6fb1d3c"
   },
   "outputs": [
    {
     "data": {
      "text/plain": [
       "<pinecone.data.index.Index at 0x1340ff130>"
      ]
     },
     "execution_count": 18,
     "metadata": {},
     "output_type": "execute_result"
    }
   ],
   "source": [
    "# Store the index as a variable\n",
    "index = pc.Index(name=INDEX_NAME)\n",
    "index"
   ]
  },
  {
   "cell_type": "code",
   "execution_count": 19,
   "metadata": {
    "colab": {
     "base_uri": "https://localhost:8080/"
    },
    "id": "kZVHwOpcKjEg",
    "outputId": "57b3bbe5-c71b-4394-a525-37082322e401"
   },
   "outputs": [
    {
     "data": {
      "text/plain": [
       "1"
      ]
     },
     "execution_count": 19,
     "metadata": {},
     "output_type": "execute_result"
    }
   ],
   "source": [
    "def query_from_pinecone(query, top_k=1, include_metadata=True):\n",
    "    # get embedding from THE SAME embedder as the documents\n",
    "    query_embedding = get_embedding(query, engine=ENGINE)\n",
    "\n",
    "    return index.query(\n",
    "      vector=query_embedding,\n",
    "      top_k=top_k,\n",
    "      namespace=NAMESPACE,\n",
    "      include_metadata=include_metadata   # gets the metadata (dates, text, etc)\n",
    "    ).get('matches')\n",
    "\n",
    "len(query_from_pinecone('I lost my card'))"
   ]
  },
  {
   "cell_type": "code",
   "execution_count": 20,
   "metadata": {
    "id": "jxUMGOLDU3iB"
   },
   "outputs": [
    {
     "data": {
      "text/plain": [
       "[{'id': 'ef834c8d6d3f6408d8280f13aa82a424',\n",
       "  'metadata': {'date_uploaded': '2024-07-24T14:56:38.458808',\n",
       "               'text': 'Youre offline. This is a read only version of the page. '\n",
       "                       'Upcoming account changes Switch to Login.gov or ID.me '\n",
       "                       'for . Upcoming account changes Switch to Login.gov or '\n",
       "                       'ID.me for . Social Security Search Español Frequently '\n",
       "                       'Asked Questions FAQ Home Topics KA01735 How do I get a '\n",
       "                       'replacement Medicare card? If your Medicare card was '\n",
       "                       'lost, stolen, or destroyed, you can request a '\n",
       "                       'replacement online at Medicare.gov. You can an official '\n",
       "                       'copy of your card from your online Medicare account or '\n",
       "                       'call 1800MEDICARE to order a replacement card to be '\n",
       "                       'sent in the mail. Footer ?',\n",
       "               'url': 'https://faq.ssa.gov/en-us/topic/article/ka-01735'},\n",
       "  'score': 0.474625379,\n",
       "  'values': []}]"
      ]
     },
     "execution_count": 20,
     "metadata": {},
     "output_type": "execute_result"
    }
   ],
   "source": [
    "query_from_pinecone('I lost my card')"
   ]
  },
  {
   "cell_type": "code",
   "execution_count": null,
   "metadata": {},
   "outputs": [],
   "source": []
  },
  {
   "cell_type": "code",
   "execution_count": 34,
   "metadata": {
    "id": "P2Fg5dJ1PAOp"
   },
   "outputs": [],
   "source": [
    "FINAL_ANSWER_TOKEN = \"Assistant Response:\"\n",
    "STOP = '[END]'\n",
    "PROMPT_TEMPLATE = \"\"\"Today is {today} and you can retrieve information from a database. Respond to the user's input as best as you can.\n",
    "\n",
    "Here is an example of the conversation format:\n",
    "\n",
    "[START]\n",
    "User Input: the input question you must answer\n",
    "Context: retrieved context from the database\n",
    "Context URL: context url\n",
    "Context Score : a score from 0 - 1 of how strong the information is a match\n",
    "Assistant Thought: This context has sufficient information to answer the question.\n",
    "Assistant Response: your final answer to the original input question which could be I don't have sufficient information to answer the question.\n",
    "[END]\n",
    "[START]\n",
    "User Input: another input question you must answer\n",
    "Context: more retrieved context from the database\n",
    "Context URL: context url\n",
    "Context Score : another score from 0 - 1 of how strong the information is a match\n",
    "Assistant Thought: This context does not have sufficient information to answer the question.\n",
    "Assistant Response: your final answer to the second input question which could be I don't have sufficient information to answer the question.\n",
    "[END]\n",
    "[START]\n",
    "User Input: another input question you must answer\n",
    "Context: more retrieved context from the database\n",
    "Context URL: context url\n",
    "Context Score : another score from 0 - 1 of how strong the information is a match\n",
    "Assistant Thought: A previous piece of context has the answer to this question\n",
    "Assistant Response: your final answer to the second input question which could be I don't have sufficient information to answer the question.\n",
    "[END]\n",
    "[START]\n",
    "User Input: another input question you must answer\n",
    "Context: NO CONTEXT FOUND\n",
    "Context URL: NONE\n",
    "Context Score : 0\n",
    "Assistant Thought: We either could not find something or we don't need to look something up\n",
    "Assistant Response: I'm sorry I don't know.\n",
    "[END]\n",
    "\n",
    "Begin:\n",
    "\n",
    "{running_convo}\n",
    "\"\"\"\n",
    "\n",
    "class RagBot(BaseModel):\n",
    "    llm: Any\n",
    "    prompt_template: str = PROMPT_TEMPLATE\n",
    "    stop_pattern: List[str] = [STOP]\n",
    "    user_inputs: List[str] = []\n",
    "    ai_responses: List[str] = []\n",
    "    contexts: List[Tuple[str, float]] = []\n",
    "    verbose: bool = False\n",
    "    threshold: float = 0.6\n",
    "\n",
    "    def query_from_pinecone(self, query, top_k=1, include_metadata=True):\n",
    "        return query_from_pinecone(query, top_k, include_metadata)\n",
    "\n",
    "    @property\n",
    "    def running_convo(self):\n",
    "        convo = ''\n",
    "        for index in range(len(self.user_inputs)):\n",
    "            convo += f'[START]\\nUser Input: {self.user_inputs[index]}\\n'\n",
    "            convo += f'Context: {self.contexts[index][0]}\\nContext URL: {self.contexts[index][1]}\\nContext Score: {self.contexts[index][2]}\\n'\n",
    "            if len(self.ai_responses) > index:\n",
    "                convo += self.ai_responses[index]\n",
    "                convo += '\\n[END]\\n'\n",
    "        return convo.strip()\n",
    "\n",
    "    def run(self, question: str):\n",
    "        self.user_inputs.append(question)\n",
    "        top_response = self.query_from_pinecone(question)[0]\n",
    "        if self.verbose:\n",
    "            print(top_response['score'])\n",
    "        if top_response['score'] >= self.threshold:\n",
    "            self.contexts.append(\n",
    "                (top_response['metadata']['text'], top_response['metadata']['url'], top_response['score']))\n",
    "        else:\n",
    "            self.contexts.append(('NO CONTEXT FOUND', 'NONE', 0))\n",
    "\n",
    "        prompt = self.prompt_template.format(  # behold, the augmentation\n",
    "                today = datetime.date.today(),\n",
    "                running_convo=self.running_convo\n",
    "        )\n",
    "        if self.verbose:\n",
    "            print('--------')\n",
    "            print('PROMPT')\n",
    "            print('--------')\n",
    "            print(prompt)\n",
    "            print('--------')\n",
    "            print('END PROMPT')\n",
    "            print('--------')\n",
    "        generated = self.llm.generate(prompt, stop=self.stop_pattern)\n",
    "        if self.verbose:\n",
    "            print('--------')\n",
    "            print('GENERATED')\n",
    "            print('--------')\n",
    "            print(generated)\n",
    "            print('--------')\n",
    "            print('END GENERATED')\n",
    "            print('--------')\n",
    "        self.ai_responses.append(generated)\n",
    "        if FINAL_ANSWER_TOKEN in generated:\n",
    "            generated = generated.split(FINAL_ANSWER_TOKEN)[-1]\n",
    "        return generated"
   ]
  },
  {
   "cell_type": "code",
   "execution_count": null,
   "metadata": {
    "id": "gVl2uWv9c4ry"
   },
   "outputs": [],
   "source": []
  },
  {
   "cell_type": "code",
   "execution_count": 57,
   "metadata": {
    "colab": {
     "base_uri": "https://localhost:8080/"
    },
    "id": "fWwgHUTaXFBa",
    "outputId": "845ca235-7e99-4b9d-ba96-20e4c875111c"
   },
   "outputs": [
    {
     "name": "stdout",
     "output_type": "stream",
     "text": [
      "0.67333436\n",
      " If you lost your Medicare card, you can request a replacement online at Medicare.gov, or you can call 1-800-MEDICARE to order a replacement card to be sent in the mail.\n"
     ]
    }
   ],
   "source": [
    "r = RagBot(llm=OpenAIChatLLM(temperature=0, model='gpt-4o-mini'), stop_pattern=['[END]'], verbose=False)\n",
    "print(r.run('I lost my medicare card'))"
   ]
  },
  {
   "cell_type": "code",
   "execution_count": 39,
   "metadata": {},
   "outputs": [
    {
     "name": "stdout",
     "output_type": "stream",
     "text": [
      "0.261926621\n",
      " The number to call for a replacement Medicare card is 1-800-MEDICARE.  \n",
      "\n"
     ]
    }
   ],
   "source": [
    "print(r.run('What was that number again?'))"
   ]
  },
  {
   "cell_type": "code",
   "execution_count": 40,
   "metadata": {
    "colab": {
     "base_uri": "https://localhost:8080/"
    },
    "id": "ATrmOKUGYQCa",
    "outputId": "e34a9f67-0081-4751-a1ca-1389f32dc871"
   },
   "outputs": [
    {
     "name": "stdout",
     "output_type": "stream",
     "text": [
      "[START]\n",
      "User Input: I lost my medicare card\n",
      "Context: Youre offline. This is a read only version of the page. Upcoming account changes Switch to Login.gov or ID.me for . Upcoming account changes Switch to Login.gov or ID.me for . Social Security Search Español Frequently Asked Questions FAQ Home Topics KA01735 How do I get a replacement Medicare card? If your Medicare card was lost, stolen, or destroyed, you can request a replacement online at Medicare.gov. You can an official copy of your card from your online Medicare account or call 1800MEDICARE to order a replacement card to be sent in the mail. Footer ?\n",
      "Context URL: https://faq.ssa.gov/en-us/topic/article/ka-01735\n",
      "Context Score: 0.67333436\n",
      "Assistant Thought: This context has sufficient information to answer the question.\n",
      "Assistant Response: If you lost your Medicare card, you can request a replacement online at Medicare.gov, or you can call 1-800-MEDICARE to order a replacement card to be sent in the mail.\n",
      "[END]\n",
      "[START]\n",
      "User Input: What was that number again?\n",
      "Context: NO CONTEXT FOUND\n",
      "Context URL: NONE\n",
      "Context Score: 0\n",
      "Assistant Thought: We either could not find something or we don't need to look something up.  \n",
      "Assistant Response: The number to call for a replacement Medicare card is 1-800-MEDICARE.  \n",
      "\n",
      "[END]\n"
     ]
    }
   ],
   "source": [
    "print(r.running_convo)"
   ]
  },
  {
   "cell_type": "code",
   "execution_count": 41,
   "metadata": {},
   "outputs": [
    {
     "name": "stdout",
     "output_type": "stream",
     "text": [
      "0.190658703\n",
      " You're welcome! If you have any more questions, feel free to ask.  \n",
      "\n"
     ]
    }
   ],
   "source": [
    "print(r.run('amazing, thanks!'))"
   ]
  },
  {
   "cell_type": "code",
   "execution_count": 42,
   "metadata": {},
   "outputs": [
    {
     "name": "stdout",
     "output_type": "stream",
     "text": [
      "[START]\n",
      "User Input: I lost my medicare card\n",
      "Context: Youre offline. This is a read only version of the page. Upcoming account changes Switch to Login.gov or ID.me for . Upcoming account changes Switch to Login.gov or ID.me for . Social Security Search Español Frequently Asked Questions FAQ Home Topics KA01735 How do I get a replacement Medicare card? If your Medicare card was lost, stolen, or destroyed, you can request a replacement online at Medicare.gov. You can an official copy of your card from your online Medicare account or call 1800MEDICARE to order a replacement card to be sent in the mail. Footer ?\n",
      "Context URL: https://faq.ssa.gov/en-us/topic/article/ka-01735\n",
      "Context Score: 0.67333436\n",
      "Assistant Thought: This context has sufficient information to answer the question.\n",
      "Assistant Response: If you lost your Medicare card, you can request a replacement online at Medicare.gov, or you can call 1-800-MEDICARE to order a replacement card to be sent in the mail.\n",
      "[END]\n",
      "[START]\n",
      "User Input: What was that number again?\n",
      "Context: NO CONTEXT FOUND\n",
      "Context URL: NONE\n",
      "Context Score: 0\n",
      "Assistant Thought: We either could not find something or we don't need to look something up.  \n",
      "Assistant Response: The number to call for a replacement Medicare card is 1-800-MEDICARE.  \n",
      "\n",
      "[END]\n",
      "[START]\n",
      "User Input: amazing, thanks!\n",
      "Context: NO CONTEXT FOUND\n",
      "Context URL: NONE\n",
      "Context Score: 0\n",
      "Assistant Thought: We either could not find something or we don't need to look something up.  \n",
      "Assistant Response: You're welcome! If you have any more questions, feel free to ask.  \n",
      "\n",
      "[END]\n"
     ]
    }
   ],
   "source": [
    "print(r.running_convo)"
   ]
  },
  {
   "cell_type": "code",
   "execution_count": 58,
   "metadata": {
    "colab": {
     "base_uri": "https://localhost:8080/",
     "height": 709
    },
    "id": "WC-K8fjFh5Xe",
    "outputId": "f0774047-c1f8-4670-f674-0446caccf783"
   },
   "outputs": [
    {
     "data": {
      "text/html": [
       "<div>\n",
       "<style scoped>\n",
       "    .dataframe tbody tr th:only-of-type {\n",
       "        vertical-align: middle;\n",
       "    }\n",
       "\n",
       "    .dataframe tbody tr th {\n",
       "        vertical-align: top;\n",
       "    }\n",
       "\n",
       "    .dataframe thead th {\n",
       "        text-align: right;\n",
       "    }\n",
       "</style>\n",
       "<table border=\"1\" class=\"dataframe\">\n",
       "  <thead>\n",
       "    <tr style=\"text-align: right;\">\n",
       "      <th></th>\n",
       "      <th>id</th>\n",
       "      <th>created_at</th>\n",
       "      <th>prompt</th>\n",
       "      <th>response</th>\n",
       "      <th>model</th>\n",
       "      <th>is_openai</th>\n",
       "      <th>input_tokens</th>\n",
       "      <th>output_tokens</th>\n",
       "      <th>inference_params</th>\n",
       "      <th>app</th>\n",
       "    </tr>\n",
       "    <tr>\n",
       "      <th>created_at</th>\n",
       "      <th></th>\n",
       "      <th></th>\n",
       "      <th></th>\n",
       "      <th></th>\n",
       "      <th></th>\n",
       "      <th></th>\n",
       "      <th></th>\n",
       "      <th></th>\n",
       "      <th></th>\n",
       "      <th></th>\n",
       "    </tr>\n",
       "  </thead>\n",
       "  <tbody>\n",
       "    <tr>\n",
       "      <th>2024-09-25 14:02:22.687046+00:00</th>\n",
       "      <td>396</td>\n",
       "      <td>2024-09-25T14:02:22.687046+00:00</td>\n",
       "      <td>Today is 2024-09-25 and you can retrieve infor...</td>\n",
       "      <td>Assistant Thought: We either could not find so...</td>\n",
       "      <td>gpt-4o-mini</td>\n",
       "      <td>True</td>\n",
       "      <td>702</td>\n",
       "      <td>42</td>\n",
       "      <td>{'stop': ['[END]'], 'temperature': 0.0}</td>\n",
       "      <td>RAG</td>\n",
       "    </tr>\n",
       "    <tr>\n",
       "      <th>2024-09-25 14:02:25.227849+00:00</th>\n",
       "      <td>397</td>\n",
       "      <td>2024-09-25T14:02:25.227849+00:00</td>\n",
       "      <td>Today is 2024-09-25 and you can retrieve infor...</td>\n",
       "      <td>Assistant Thought: This context has sufficient...</td>\n",
       "      <td>gpt-4o-mini</td>\n",
       "      <td>True</td>\n",
       "      <td>537</td>\n",
       "      <td>57</td>\n",
       "      <td>{'stop': ['[END]'], 'temperature': 0.0}</td>\n",
       "      <td>RAG</td>\n",
       "    </tr>\n",
       "    <tr>\n",
       "      <th>2024-09-25 14:02:28.666853+00:00</th>\n",
       "      <td>398</td>\n",
       "      <td>2024-09-25T14:02:28.666853+00:00</td>\n",
       "      <td>Today is 2024-09-25 and you can retrieve infor...</td>\n",
       "      <td>Assistant Thought: We either could not find so...</td>\n",
       "      <td>gpt-4o-mini</td>\n",
       "      <td>True</td>\n",
       "      <td>627</td>\n",
       "      <td>42</td>\n",
       "      <td>{'stop': ['[END]'], 'temperature': 0.0}</td>\n",
       "      <td>RAG</td>\n",
       "    </tr>\n",
       "    <tr>\n",
       "      <th>2024-09-25 14:02:31.951903+00:00</th>\n",
       "      <td>399</td>\n",
       "      <td>2024-09-25T14:02:31.951903+00:00</td>\n",
       "      <td>Today is 2024-09-25 and you can retrieve infor...</td>\n",
       "      <td>Assistant Thought: We either could not find so...</td>\n",
       "      <td>gpt-4o-mini</td>\n",
       "      <td>True</td>\n",
       "      <td>700</td>\n",
       "      <td>38</td>\n",
       "      <td>{'stop': ['[END]'], 'temperature': 0.0}</td>\n",
       "      <td>RAG</td>\n",
       "    </tr>\n",
       "    <tr>\n",
       "      <th>2024-09-25 18:52:04.973252+00:00</th>\n",
       "      <td>400</td>\n",
       "      <td>2024-09-25T18:52:04.973252+00:00</td>\n",
       "      <td>Today is 2024-09-25 and you can retrieve infor...</td>\n",
       "      <td>Assistant Thought: This context has sufficient...</td>\n",
       "      <td>gpt-4o-mini</td>\n",
       "      <td>True</td>\n",
       "      <td>537</td>\n",
       "      <td>57</td>\n",
       "      <td>{'stop': ['[END]'], 'temperature': 0.0}</td>\n",
       "      <td>RAG</td>\n",
       "    </tr>\n",
       "  </tbody>\n",
       "</table>\n",
       "</div>"
      ],
      "text/plain": [
       "                                   id                        created_at  \\\n",
       "created_at                                                                \n",
       "2024-09-25 14:02:22.687046+00:00  396  2024-09-25T14:02:22.687046+00:00   \n",
       "2024-09-25 14:02:25.227849+00:00  397  2024-09-25T14:02:25.227849+00:00   \n",
       "2024-09-25 14:02:28.666853+00:00  398  2024-09-25T14:02:28.666853+00:00   \n",
       "2024-09-25 14:02:31.951903+00:00  399  2024-09-25T14:02:31.951903+00:00   \n",
       "2024-09-25 18:52:04.973252+00:00  400  2024-09-25T18:52:04.973252+00:00   \n",
       "\n",
       "                                                                             prompt  \\\n",
       "created_at                                                                            \n",
       "2024-09-25 14:02:22.687046+00:00  Today is 2024-09-25 and you can retrieve infor...   \n",
       "2024-09-25 14:02:25.227849+00:00  Today is 2024-09-25 and you can retrieve infor...   \n",
       "2024-09-25 14:02:28.666853+00:00  Today is 2024-09-25 and you can retrieve infor...   \n",
       "2024-09-25 14:02:31.951903+00:00  Today is 2024-09-25 and you can retrieve infor...   \n",
       "2024-09-25 18:52:04.973252+00:00  Today is 2024-09-25 and you can retrieve infor...   \n",
       "\n",
       "                                                                           response  \\\n",
       "created_at                                                                            \n",
       "2024-09-25 14:02:22.687046+00:00  Assistant Thought: We either could not find so...   \n",
       "2024-09-25 14:02:25.227849+00:00  Assistant Thought: This context has sufficient...   \n",
       "2024-09-25 14:02:28.666853+00:00  Assistant Thought: We either could not find so...   \n",
       "2024-09-25 14:02:31.951903+00:00  Assistant Thought: We either could not find so...   \n",
       "2024-09-25 18:52:04.973252+00:00  Assistant Thought: This context has sufficient...   \n",
       "\n",
       "                                        model  is_openai  input_tokens  \\\n",
       "created_at                                                               \n",
       "2024-09-25 14:02:22.687046+00:00  gpt-4o-mini       True           702   \n",
       "2024-09-25 14:02:25.227849+00:00  gpt-4o-mini       True           537   \n",
       "2024-09-25 14:02:28.666853+00:00  gpt-4o-mini       True           627   \n",
       "2024-09-25 14:02:31.951903+00:00  gpt-4o-mini       True           700   \n",
       "2024-09-25 18:52:04.973252+00:00  gpt-4o-mini       True           537   \n",
       "\n",
       "                                  output_tokens  \\\n",
       "created_at                                        \n",
       "2024-09-25 14:02:22.687046+00:00             42   \n",
       "2024-09-25 14:02:25.227849+00:00             57   \n",
       "2024-09-25 14:02:28.666853+00:00             42   \n",
       "2024-09-25 14:02:31.951903+00:00             38   \n",
       "2024-09-25 18:52:04.973252+00:00             57   \n",
       "\n",
       "                                                         inference_params  app  \n",
       "created_at                                                                      \n",
       "2024-09-25 14:02:22.687046+00:00  {'stop': ['[END]'], 'temperature': 0.0}  RAG  \n",
       "2024-09-25 14:02:25.227849+00:00  {'stop': ['[END]'], 'temperature': 0.0}  RAG  \n",
       "2024-09-25 14:02:28.666853+00:00  {'stop': ['[END]'], 'temperature': 0.0}  RAG  \n",
       "2024-09-25 14:02:31.951903+00:00  {'stop': ['[END]'], 'temperature': 0.0}  RAG  \n",
       "2024-09-25 18:52:04.973252+00:00  {'stop': ['[END]'], 'temperature': 0.0}  RAG  "
      ]
     },
     "execution_count": 58,
     "metadata": {},
     "output_type": "execute_result"
    }
   ],
   "source": [
    "response = supabase.table('cost_projecting').select(\"*\").eq('app', 'RAG').execute()\n",
    "completions_df = pd.DataFrame(response.data)\n",
    "completions_df.index = pd.to_datetime(completions_df['created_at'])\n",
    "\n",
    "completions_df.tail()"
   ]
  },
  {
   "cell_type": "code",
   "execution_count": 44,
   "metadata": {
    "colab": {
     "base_uri": "https://localhost:8080/"
    },
    "id": "MZN10TUNBl_U",
    "outputId": "138ee0ff-0b67-4c71-c092-baec944cf17c"
   },
   "outputs": [
    {
     "data": {
      "text/plain": [
       "(0.000754, 0.000754)"
      ]
     },
     "execution_count": 44,
     "metadata": {},
     "output_type": "execute_result"
    }
   ],
   "source": [
    "prices = { # per 1M tokens\n",
    "    'gpt-3.5-turbo': {\n",
    "        'prompt': 0.5,\n",
    "        'completion': 1.5\n",
    "    },\n",
    "    'gpt-4o': {\n",
    "        'prompt': 5,\n",
    "        'completion': 15\n",
    "    },\n",
    "}\n",
    "\n",
    "def calculate_cost(input_tokens, output_tokens, model):\n",
    "    if model not in prices:\n",
    "        return None\n",
    "\n",
    "    prompt_cost = input_tokens / 1e6\n",
    "    completion_cost = output_tokens / 1e6\n",
    "\n",
    "    return prompt_cost + completion_cost\n",
    "\n",
    "calculate_cost(354, 400, 'gpt-3.5-turbo'), calculate_cost(354, 400, 'gpt-4o')"
   ]
  },
  {
   "cell_type": "code",
   "execution_count": 61,
   "metadata": {
    "id": "sujuCbtaCRQ_"
   },
   "outputs": [],
   "source": [
    "# run calculate_cost over every row\n",
    "completions_df['cost'] = completions_df.apply(\n",
    "    lambda row: calculate_cost(row['input_tokens'], row['output_tokens'], row['model']), axis=1\n",
    "    )"
   ]
  },
  {
   "cell_type": "code",
   "execution_count": 62,
   "metadata": {
    "colab": {
     "base_uri": "https://localhost:8080/"
    },
    "id": "rNLfNDZ_Niyq",
    "outputId": "27300038-6fae-4b13-c2a2-d87daf673655"
   },
   "outputs": [
    {
     "data": {
      "text/plain": [
       "created_at\n",
       "2024-03-18 00:00:00+00:00    0.001532\n",
       "2024-03-25 00:00:00+00:00    0.000000\n",
       "2024-04-01 00:00:00+00:00    0.002632\n",
       "2024-04-08 00:00:00+00:00    0.003777\n",
       "2024-04-15 00:00:00+00:00    0.001044\n",
       "2024-04-22 00:00:00+00:00    0.000000\n",
       "2024-04-29 00:00:00+00:00    0.000000\n",
       "2024-05-06 00:00:00+00:00    0.000000\n",
       "2024-05-13 00:00:00+00:00    0.000000\n",
       "2024-05-20 00:00:00+00:00    0.000000\n",
       "2024-05-27 00:00:00+00:00    0.000000\n",
       "2024-06-03 00:00:00+00:00    0.004556\n",
       "2024-06-10 00:00:00+00:00    0.000000\n",
       "2024-06-17 00:00:00+00:00    0.000000\n",
       "2024-06-24 00:00:00+00:00    0.000000\n",
       "2024-07-01 00:00:00+00:00    0.000000\n",
       "2024-07-08 00:00:00+00:00    0.000000\n",
       "2024-07-15 00:00:00+00:00    0.000000\n",
       "2024-07-22 00:00:00+00:00    0.000000\n",
       "2024-07-29 00:00:00+00:00    0.005276\n",
       "2024-08-05 00:00:00+00:00    0.000000\n",
       "2024-08-12 00:00:00+00:00    0.000000\n",
       "2024-08-19 00:00:00+00:00    0.000000\n",
       "2024-08-26 00:00:00+00:00    0.000000\n",
       "2024-09-02 00:00:00+00:00    0.000000\n",
       "2024-09-09 00:00:00+00:00    0.000000\n",
       "2024-09-16 00:00:00+00:00    0.000000\n",
       "2024-09-23 00:00:00+00:00    0.000569\n",
       "2024-09-30 00:00:00+00:00    0.004923\n",
       "Freq: W-MON, Name: cost, dtype: float64"
      ]
     },
     "execution_count": 62,
     "metadata": {},
     "output_type": "execute_result"
    }
   ],
   "source": [
    "completions_df['cost'].resample('W-Mon').sum().sort_index()"
   ]
  },
  {
   "cell_type": "code",
   "execution_count": 63,
   "metadata": {
    "colab": {
     "base_uri": "https://localhost:8080/",
     "height": 651
    },
    "id": "Rl52XvDmCZ9_",
    "outputId": "ab259bf4-09f4-4409-da10-bced5e778896"
   },
   "outputs": [
    {
     "data": {
      "text/plain": [
       "<Axes: xlabel='created_at'>"
      ]
     },
     "execution_count": 63,
     "metadata": {},
     "output_type": "execute_result"
    },
    {
     "data": {
      "image/png": "[encoded data removed]",
      "text/plain": [
       "<Figure size 640x480 with 1 Axes>"
      ]
     },
     "metadata": {},
     "output_type": "display_data"
    }
   ],
   "source": [
    "completions_df['cost'].resample('W-Mon').sum().sort_index().plot(kind='bar')"
   ]
  },
  {
   "cell_type": "markdown",
   "metadata": {},
   "source": [
    "# Using Claude as our Generator"
   ]
  },
  {
   "cell_type": "code",
   "execution_count": 48,
   "metadata": {},
   "outputs": [],
   "source": [
    "from anthropic import Anthropic\n",
    "anthropic_client = Anthropic(\n",
    "    api_key=os.environ.get(\"ANTHROPIC_API_KEY\"),\n",
    ")"
   ]
  },
  {
   "cell_type": "code",
   "execution_count": 49,
   "metadata": {},
   "outputs": [],
   "source": [
    "def test_prompt_anthropic(prompt, suppress=False, model='claude-3-opus-20240229', **kwargs):\n",
    "    \" a simple function to take in a prompt and run it through a given non-chat model \"\n",
    "        \n",
    "    message = anthropic_client.messages.create(\n",
    "        messages=[\n",
    "            {\n",
    "                \"role\": \"user\",\n",
    "                \"content\": prompt,\n",
    "            }\n",
    "        ],\n",
    "        model=model,\n",
    "        max_tokens=1024,\n",
    "        **kwargs\n",
    "    )\n",
    "    answer = message.content[0].text\n",
    "    if not suppress:\n",
    "        print(f'PROMPT:\\n------\\n{prompt}\\n------\\nRESPONSE\\n------\\n{answer}')\n",
    "    else:\n",
    "        return answer\n",
    "\n"
   ]
  },
  {
   "cell_type": "code",
   "execution_count": 52,
   "metadata": {},
   "outputs": [
    {
     "name": "stdout",
     "output_type": "stream",
     "text": [
      "PROMPT:\n",
      "------\n",
      "1+1=\n",
      "------\n",
      "RESPONSE\n",
      "------\n",
      "1+1=2\n",
      "\n",
      "This is one of the most basic equations in mathematics. It represents the addition of two units, which results in a sum of two.\n"
     ]
    }
   ],
   "source": [
    "test_prompt_anthropic('1+1=', model='claude-3-5-sonnet-20240620')"
   ]
  },
  {
   "cell_type": "code",
   "execution_count": 53,
   "metadata": {},
   "outputs": [],
   "source": [
    "# Define a class for the Chat Language Model\n",
    "class AnthropicChatLLM(BaseModel):\n",
    "    model: str = 'claude-3-5-sonnet-20240620'  # Default model to use\n",
    "    \n",
    "    # Method to generate a response from the model based on the provided prompt\n",
    "    def generate(self, prompt: str, stop: List[str] = None):\n",
    "        # Create a completion request to the Anthropic API with the given parameters\n",
    "        response = test_prompt_anthropic(prompt, model=self.model, suppress=True)\n",
    "\n",
    "        # no supabase here, feel free to add it\n",
    "\n",
    "        # Return the generated response content\n",
    "        return response\n"
   ]
  },
  {
   "cell_type": "code",
   "execution_count": 54,
   "metadata": {},
   "outputs": [
    {
     "data": {
      "text/plain": [
       "'1+1 equals 2.\\n\\nThis is one of the most basic and fundamental arithmetic equations. It represents the addition of two individual units, resulting in a sum of two.'"
      ]
     },
     "execution_count": 54,
     "metadata": {},
     "output_type": "execute_result"
    }
   ],
   "source": [
    "anthropic_llm  = AnthropicChatLLM()\n",
    "\n",
    "anthropic_llm.generate('What is 1+1?')"
   ]
  },
  {
   "cell_type": "code",
   "execution_count": 55,
   "metadata": {},
   "outputs": [
    {
     "name": "stdout",
     "output_type": "stream",
     "text": [
      "0.67333436\n",
      " If you've lost your Medicare card, you have a few options to get a replacement:\n",
      "\n",
      "1. You can request a replacement card online at Medicare.gov.\n",
      "2. You can print an official copy of your card from your online Medicare account.\n",
      "3. You can call 1-800-MEDICARE to order a replacement card to be sent to you by mail.\n",
      "\n",
      "These options ensure that you can quickly and easily obtain a new Medicare card to replace the one you've lost.\n"
     ]
    }
   ],
   "source": [
    "r = RagBot(llm=AnthropicChatLLM(), stop_pattern=['[END]'])\n",
    "print(r.run('I lost my medicare card'))"
   ]
  },
  {
   "cell_type": "code",
   "execution_count": 56,
   "metadata": {},
   "outputs": [
    {
     "name": "stdout",
     "output_type": "stream",
     "text": [
      "[START]\n",
      "User Input: I lost my medicare card\n",
      "Context: Youre offline. This is a read only version of the page. Upcoming account changes Switch to Login.gov or ID.me for . Upcoming account changes Switch to Login.gov or ID.me for . Social Security Search Español Frequently Asked Questions FAQ Home Topics KA01735 How do I get a replacement Medicare card? If your Medicare card was lost, stolen, or destroyed, you can request a replacement online at Medicare.gov. You can an official copy of your card from your online Medicare account or call 1800MEDICARE to order a replacement card to be sent in the mail. Footer ?\n",
      "Context URL: https://faq.ssa.gov/en-us/topic/article/ka-01735\n",
      "Context Score: 0.67333436\n",
      "Assistant Thought: This context provides sufficient information to answer the question about replacing a lost Medicare card.\n",
      "\n",
      "Assistant Response: If you've lost your Medicare card, you have a few options to get a replacement:\n",
      "\n",
      "1. You can request a replacement card online at Medicare.gov.\n",
      "2. You can print an official copy of your card from your online Medicare account.\n",
      "3. You can call 1-800-MEDICARE to order a replacement card to be sent to you by mail.\n",
      "\n",
      "These options ensure that you can quickly and easily obtain a new Medicare card to replace the one you've lost.\n",
      "[END]\n"
     ]
    }
   ],
   "source": [
    "print(r.running_convo)"
   ]
  },
  {
   "cell_type": "markdown",
   "metadata": {
    "id": "l8n6on6fJ_5H"
   },
   "source": [
    "# Using Llama-3 as our Generator"
   ]
  },
  {
   "cell_type": "code",
   "execution_count": null,
   "metadata": {
    "colab": {
     "base_uri": "https://localhost:8080/",
     "height": 145,
     "referenced_widgets": [
      "307f1ab676974387b50b6d390fca6ed4",
      "b755ac8bc04349c39e0dc5fc6cb4ac88",
      "ad27a257e4f647b89d809e47d470f79f",
      "4999a10141364b8ab18839320bffd6ed",
      "862ae1541542421bbd5f359f9d0e717d",
      "3ff0e775916e4c8da887a117728c604c",
      "f710b0def2af4728aa9516a0e54eb705",
      "2178111bcc3240159c12e8d4b81d35df",
      "4b4cc248d49648539b78d6c82b389353",
      "a1f4feb0f44b47e1b3c6f72b8b8f8bcb",
      "6e8d9fbb287241ce9415bf4b88989226",
      "b8a19e7cda0d47ccbe8ce81a08ec6c42",
      "9b8aba5af6af42c0a3377c7676fc73cb",
      "a1bb86a49a5845c6a3bb936dfa257b38",
      "45a689a7024243d3a7c3d2265c272e8d",
      "8a468e6ee5e5483e9dfe6c5c8ff845b0",
      "f6e1698b96914a92abc612c511bd3ba9",
      "ba309009b20343e59c061c5fd7b8a150",
      "3d447500bd6e49b892b7a2215360b5a5",
      "ebfc7b152a224333bfc77090c2ef934c",
      "805204df415c4e2aada1366b7fec94ea",
      "05a4343887d947d7ba85c7e4966113ae",
      "327273aa89264bf3a081ce85bd9ab0f4",
      "3272e3e26dc14331b7cac6f0fea0bc36",
      "8ab1eb870c8a4942bc99db73d723f659",
      "050b5ef402924081847a46c0c6dc5985",
      "001e2bb0a89d41e9b6aa9280ad55f063",
      "f6844220a96c46caa1bdb3a673da534f",
      "051f32d2c1bf40bd9e269be3f73a74be",
      "9f960cba4b92495cb01a2586a622deaa",
      "dc84beff92194850b193fb4a5d0df46b",
      "111a2a7a9d0743619f22cf5311b6093a",
      "70766048465b44c0b3a343d3dda36482",
      "041d716a7a294bdfaa804935def5327b",
      "046182a56d2544e5a54aeefc4bc0ca9e",
      "755217e6353f4902bf23debc8625a734",
      "49584303ce4a40b0ad10e75703adcc6c",
      "54a02369c6b8491cb9d148401985ef96",
      "20d3f1a259814b6ea2d540b907eddfbd",
      "61b6e1279a1745fd94ba8c68c513c2c4",
      "5c2e730f8e694d81bd78b61364d19d28",
      "8dda5ca9aa9140adba5205dcb668c8a0",
      "e02c90ef979b40e289d0e0d5a373df49",
      "6a85a0cf4384496d8519ad68acef5816"
     ]
    },
    "id": "2Udf6YLAPt_c",
    "outputId": "ea8bcf66-c4c9-4158-c843-21038f4a0eac"
   },
   "outputs": [
    {
     "data": {
      "application/vnd.jupyter.widget-view+json": {
       "model_id": "307f1ab676974387b50b6d390fca6ed4",
       "version_major": 2,
       "version_minor": 0
      },
      "text/plain": [
       "tokenizer_config.json:   0%|          | 0.00/746 [00:00<?, ?B/s]"
      ]
     },
     "metadata": {},
     "output_type": "display_data"
    },
    {
     "data": {
      "application/vnd.jupyter.widget-view+json": {
       "model_id": "b8a19e7cda0d47ccbe8ce81a08ec6c42",
       "version_major": 2,
       "version_minor": 0
      },
      "text/plain": [
       "tokenizer.model:   0%|          | 0.00/500k [00:00<?, ?B/s]"
      ]
     },
     "metadata": {},
     "output_type": "display_data"
    },
    {
     "data": {
      "application/vnd.jupyter.widget-view+json": {
       "model_id": "327273aa89264bf3a081ce85bd9ab0f4",
       "version_major": 2,
       "version_minor": 0
      },
      "text/plain": [
       "added_tokens.json:   0%|          | 0.00/21.0 [00:00<?, ?B/s]"
      ]
     },
     "metadata": {},
     "output_type": "display_data"
    },
    {
     "data": {
      "application/vnd.jupyter.widget-view+json": {
       "model_id": "041d716a7a294bdfaa804935def5327b",
       "version_major": 2,
       "version_minor": 0
      },
      "text/plain": [
       "special_tokens_map.json:   0%|          | 0.00/435 [00:00<?, ?B/s]"
      ]
     },
     "metadata": {},
     "output_type": "display_data"
    }
   ],
   "source": [
    "from transformers import AutoTokenizer\n",
    "\n",
    "tokenizer = AutoTokenizer.from_pretrained(\"meta-llama/Meta-Llama-3-8B-Instruct\")"
   ]
  },
  {
   "cell_type": "code",
   "execution_count": null,
   "metadata": {
    "colab": {
     "base_uri": "https://localhost:8080/"
    },
    "id": "3fHe9Od26kCe",
    "outputId": "924cf933-2e6b-411d-897b-9c151bbfc30f"
   },
   "outputs": [
    {
     "name": "stdout",
     "output_type": "stream",
     "text": [
      "PROMPT:\n",
      "------\n",
      "<|begin_of_text|><|start_header_id|>user<|end_header_id|>\n",
      "\n",
      "1+1=?<|eot_id|><|start_header_id|>assistant<|end_header_id|>\n",
      "\n",
      "\n",
      "------\n",
      "RESPONSE\n",
      "------\n",
      "2\n"
     ]
    }
   ],
   "source": [
    "import requests\n",
    "\n",
    "terminators = [\n",
    "    tokenizer.eos_token_id,\n",
    "    tokenizer.convert_tokens_to_ids(\"<|eot_id|>\"),\n",
    "    tokenizer.convert_tokens_to_ids(\"assistant\"),\n",
    "]\n",
    "\n",
    "def test_prompt_llama_3_8b(prompt, suppress=False, **kwargs):\n",
    "\n",
    "    API_URL = \"https://my03m9749ssz7t6h.us-east-1.aws.endpoints.huggingface.cloud\"\n",
    "    headers = {\n",
    "    \t\"Accept\" : \"application/json\",\n",
    "    \t\"Authorization\": f\"Bearer {userdata.get('HF_TOKEN')}\",\n",
    "    \t\"Content-Type\": \"application/json\"\n",
    "    }\n",
    "\n",
    "    llama_prompt = f\"<|begin_of_text|><|start_header_id|>user<|end_header_id|>\\n\\n{prompt}<|eot_id|><|start_header_id|>assistant<|end_header_id|>\\n\\n\"\n",
    "\n",
    "    def query(payload):\n",
    "    \tresponse = requests.post(API_URL, headers=headers, json=payload)\n",
    "    \treturn response.json()\n",
    "\n",
    "    kwargs[\"return_text\"] = False\n",
    "    kwargs[\"return_full_text\"] = False\n",
    "    kwargs['max_new_tokens'] = 512\n",
    "    kwargs['stop'] = [\"<|end_of_text|>\", \"<|eot_id|>\"]\n",
    "\n",
    "    output = query({\n",
    "    \t\"inputs\": llama_prompt,\n",
    "    \t\"parameters\": kwargs\n",
    "    })\n",
    "    answer = output[0]['generated_text']\n",
    "    if not suppress:\n",
    "        print(f'PROMPT:\\n------\\n{llama_prompt}\\n------\\nRESPONSE\\n------\\n{answer}')\n",
    "    else:\n",
    "        return answer\n",
    "\n",
    "test_prompt_llama_3_8b('1+1=?')"
   ]
  },
  {
   "cell_type": "code",
   "execution_count": null,
   "metadata": {
    "colab": {
     "base_uri": "https://localhost:8080/",
     "height": 53
    },
    "id": "EZ9CVB277JN5",
    "outputId": "3214a2f4-bcba-4ebc-8ae4-edad8b3aa604"
   },
   "outputs": [
    {
     "name": "stdout",
     "output_type": "stream",
     "text": [
      "[{'generated_text': '2'}]\n"
     ]
    },
    {
     "data": {
      "application/vnd.google.colaboratory.intrinsic+json": {
       "type": "string"
      },
      "text/plain": [
       "'2'"
      ]
     },
     "execution_count": 85,
     "metadata": {},
     "output_type": "execute_result"
    }
   ],
   "source": [
    "test_prompt_llama_3_8b('1+1=?', suppress=True)"
   ]
  },
  {
   "cell_type": "code",
   "execution_count": null,
   "metadata": {
    "id": "0KuXAxt7Cmtt"
   },
   "outputs": [],
   "source": [
    "class LlamaChatLLM(ChatLLM):\n",
    "    temperature: float = 0.3\n",
    "    do_sample: bool = True\n",
    "    max_new_tokens: int = 256\n",
    "\n",
    "    def generate(self, prompt: str, stop: List[str] = None):\n",
    "        response = test_prompt_llama_3_8b(prompt, suppress=True)\n",
    "        return response"
   ]
  },
  {
   "cell_type": "code",
   "execution_count": null,
   "metadata": {
    "colab": {
     "base_uri": "https://localhost:8080/"
    },
    "id": "8ERXTzqCOqiM",
    "outputId": "9c640e20-7aa4-4978-9963-d4507c21aaf6"
   },
   "outputs": [
    {
     "name": "stdout",
     "output_type": "stream",
     "text": [
      "0.646217287\n",
      " If you've lost your Medicare card, you can request a replacement online at Medicare.gov or call 1-800-MEDICARE to order a new one to be sent in the mail.\n"
     ]
    }
   ],
   "source": [
    "llama_rag = RagBot(llm=llama_llm, verbose=False, stop_pattern=['[END]'])\n",
    "print(llama_rag.run('I lost my medicare card'))"
   ]
  },
  {
   "cell_type": "code",
   "execution_count": null,
   "metadata": {
    "colab": {
     "base_uri": "https://localhost:8080/"
    },
    "id": "J_Hb1Cc9O-Vt",
    "outputId": "c099d33f-971a-4217-b4df-fa2b9184ba2f"
   },
   "outputs": [
    {
     "data": {
      "text/plain": [
       "['I lost my medicare card']"
      ]
     },
     "execution_count": 91,
     "metadata": {},
     "output_type": "execute_result"
    }
   ],
   "source": [
    "llama_rag.user_inputs"
   ]
  },
  {
   "cell_type": "code",
   "execution_count": null,
   "metadata": {
    "colab": {
     "base_uri": "https://localhost:8080/"
    },
    "id": "SFjbreQRRayT",
    "outputId": "79920ef5-406b-4c29-e440-4e4e621d6ad1"
   },
   "outputs": [
    {
     "data": {
      "text/plain": [
       "[\"[START]\\nUser Input: I lost my medicare card\\nContext: If your Medicare card was lost, stolen, or destroyed, you can request a replacement online at Medicare.gov. You can print an official copy of your card from your online Medicare account or call 1-800-MEDICARE (1-800-633-4227 TTY 1-877-486-2048) to order a replacement card to be sent in the mail.\\nContext URL: https://faq.ssa.gov/en-us/Topic/article/KA-01735\\nContext Score: 0.646264791\\nAssistant Thought: This context has sufficient information to answer the question.\\nAssistant Response: If you've lost your Medicare card, you can request a replacement online at Medicare.gov or call 1-800-MEDICARE to order a new card to be sent in the mail.\"]"
      ]
     },
     "execution_count": 92,
     "metadata": {},
     "output_type": "execute_result"
    }
   ],
   "source": [
    "llama_rag.ai_responses"
   ]
  },
  {
   "cell_type": "code",
   "execution_count": 64,
   "metadata": {},
   "outputs": [
    {
     "name": "stdout",
     "output_type": "stream",
     "text": [
      "[START]\n",
      "User Input: I lost my medicare card\n",
      "Context: If your Medicare card was lost, stolen, or destroyed, you can request a replacement online at Medicare.gov. You can print an official copy of your card from your online Medicare account or call 1-800-MEDICARE (1-800-633-4227 TTY 1-877-486-2048) to order a replacement card to be sent in the mail.\n",
      "Context URL: https://faq.ssa.gov/en-us/Topic/article/KA-01735\n",
      "Context Score: 0.646264791\n",
      "Assistant Thought: This context has sufficient information to answer the question.\n",
      "Assistant Response: If you've lost your Medicare card, you can request a replacement online at Medicare.gov or call 1-800-MEDICARE to order a new card to be sent in the mail.\n"
     ]
    }
   ],
   "source": [
    "print(\"[START]\\nUser Input: I lost my medicare card\\nContext: If your Medicare card was lost, stolen, or destroyed, you can request a replacement online at Medicare.gov. You can print an official copy of your card from your online Medicare account or call 1-800-MEDICARE (1-800-633-4227 TTY 1-877-486-2048) to order a replacement card to be sent in the mail.\\nContext URL: https://faq.ssa.gov/en-us/Topic/article/KA-01735\\nContext Score: 0.646264791\\nAssistant Thought: This context has sufficient information to answer the question.\\nAssistant Response: If you've lost your Medicare card, you can request a replacement online at Medicare.gov or call 1-800-MEDICARE to order a new card to be sent in the mail.\")"
   ]
  },
  {
   "cell_type": "code",
   "execution_count": null,
   "metadata": {
    "colab": {
     "base_uri": "https://localhost:8080/"
    },
    "id": "fmpml9fPRb0F",
    "outputId": "4f4a2e89-2e29-4f74-a341-5c492b88cef7"
   },
   "outputs": [
    {
     "data": {
      "text/plain": [
       "[(\"\\n\\n\\n\\nYou’re offline. This is a read only version of the page.\\n\\n\\n\\n\\n\\n\\n\\n\\n\\n\\n\\n\\n\\n\\n\\n\\n\\n\\n\\n\\n\\n\\n\\n\\n\\n\\nSkip to content\\n\\n\\n \\n\\n\\n\\n\\n\\n\\nDo you need to submit W-2s to SSA? Business Services Online registration has changed!\\n\\n\\n\\n\\n\\n\\n\\n\\n\\n\\nWhat should I do if I get a call claiming there's a problem with my Social Security number or account?\\n\\n\\n\\nSkip to main content Social Security Search  Menu  Español  Sign in\\n\\n\\n\\n\\nFrequently Asked Questions\\n\\n\\n\\n\\nLast Modified: \\n\\n\\n\\n\\n\\n\\n\\n\\n\\n\\n\\n\\n\\n\\n\\n\\n\\nFAQ Home\\n\\n\\nTopics\\n\\n\\r\\n\\t\\t\\t\\t\\tKA-01735\\r\\n\\t\\t\\t\\t\\n\\n\\n\\n\\n\\n Print\\n\\n\\n\\nHow do I get a replacement Medicare card? \\n\\n\\n\\n\\n\\n\\n\\n\\n\\n\\n\\n\\n\\n\\n\\n\\n\\n\\n\\n\\n\\n\\n\\n\\n\\nViews: \\n\\n\\n\\nIf your Medicare card was lost, stolen, or destroyed, you can request a replacement online at Medicare.gov.\\nYou can print an official copy of your card from your online Medicare account \\nor call 1-800-MEDICARE (1-800-633-4227 TTY 1-877-486-2048) to order a replacement card to be sent in the mail.\\n\\n\\n\\n\\n\\n\\n\\n\\n\\n\\n\\n\\n\\n\\n\\n\\n\\n\\nComments (0)\\n\\n\\n\\n\\n\\n\\n\\n\\n\\n\\n\\n\\n\\n\\n\\nFooter menu\\n\\n\\n\\n\\n\\n\\n\\nGive us Feedback.\\n\\nDid this answer your question?\\n\\nNo\\nYes\\nNo\\n\\nThanks for your feedback.\\n\\n\\n\\n\\n\\n\\n\",\n",
       "  'https://faq.ssa.gov/en-us/Topic/article/KA-01735',\n",
       "  0.646217287)]"
      ]
     },
     "execution_count": 77,
     "metadata": {},
     "output_type": "execute_result"
    }
   ],
   "source": [
    "llama_rag.contexts"
   ]
  },
  {
   "cell_type": "code",
   "execution_count": null,
   "metadata": {
    "id": "BPAsW6Z09P9a"
   },
   "outputs": [],
   "source": [
    "# https://huggingface.co/CohereForAI/c4ai-command-r-v01-4bit"
   ]
  },
  {
   "cell_type": "code",
   "execution_count": null,
   "metadata": {
    "id": "kyvvxWeM94Q_"
   },
   "outputs": [],
   "source": []
  },
  {
   "cell_type": "markdown",
   "metadata": {
    "id": "hruk_d3dKFIV"
   },
   "source": [
    "# Using [Command-R](https://cohere.com/blog/command-r?ref=cohere-ai.ghost.io) as our Generator"
   ]
  },
  {
   "cell_type": "code",
   "execution_count": null,
   "metadata": {
    "colab": {
     "base_uri": "https://localhost:8080/"
    },
    "collapsed": true,
    "id": "2haTwk1t-TKZ",
    "jupyter": {
     "outputs_hidden": true
    },
    "outputId": "7e540f0e-6afa-4fde-d497-ad93b876072e"
   },
   "outputs": [
    {
     "name": "stdout",
     "output_type": "stream",
     "text": [
      "Collecting bitsandbytes\n",
      "  Downloading bitsandbytes-0.43.1-py3-none-manylinux_2_24_x86_64.whl (119.8 MB)\n",
      "\u001b[2K     \u001b[90m━━━━━━━━━━━━━━━━━━━━━━━━━━━━━━━━━━━━━━━━\u001b[0m \u001b[32m119.8/119.8 MB\u001b[0m \u001b[31m13.5 MB/s\u001b[0m eta \u001b[36m0:00:00\u001b[0m\n",
      "\u001b[?25hCollecting accelerate\n",
      "  Downloading accelerate-0.30.1-py3-none-any.whl (302 kB)\n",
      "\u001b[2K     \u001b[90m━━━━━━━━━━━━━━━━━━━━━━━━━━━━━━━━━━━━━━━━\u001b[0m \u001b[32m302.6/302.6 kB\u001b[0m \u001b[31m30.8 MB/s\u001b[0m eta \u001b[36m0:00:00\u001b[0m\n",
      "\u001b[?25hRequirement already satisfied: torch[transformers] in /usr/local/lib/python3.10/dist-packages (2.3.0+cu121)\n",
      "Requirement already satisfied: numpy in /usr/local/lib/python3.10/dist-packages (from bitsandbytes) (1.25.2)\n",
      "Requirement already satisfied: packaging>=20.0 in /usr/local/lib/python3.10/dist-packages (from accelerate) (24.0)\n",
      "Requirement already satisfied: psutil in /usr/local/lib/python3.10/dist-packages (from accelerate) (5.9.5)\n",
      "Requirement already satisfied: pyyaml in /usr/local/lib/python3.10/dist-packages (from accelerate) (6.0.1)\n",
      "Requirement already satisfied: huggingface-hub in /usr/local/lib/python3.10/dist-packages (from accelerate) (0.23.1)\n",
      "Requirement already satisfied: safetensors>=0.3.1 in /usr/local/lib/python3.10/dist-packages (from accelerate) (0.4.3)\n",
      "\u001b[33mWARNING: torch 2.3.0+cu121 does not provide the extra 'transformers'\u001b[0m\u001b[33m\n",
      "\u001b[0mRequirement already satisfied: filelock in /usr/local/lib/python3.10/dist-packages (from torch[transformers]) (3.14.0)\n",
      "Requirement already satisfied: typing-extensions>=4.8.0 in /usr/local/lib/python3.10/dist-packages (from torch[transformers]) (4.11.0)\n",
      "Requirement already satisfied: sympy in /usr/local/lib/python3.10/dist-packages (from torch[transformers]) (1.12)\n",
      "Requirement already satisfied: networkx in /usr/local/lib/python3.10/dist-packages (from torch[transformers]) (3.3)\n",
      "Requirement already satisfied: jinja2 in /usr/local/lib/python3.10/dist-packages (from torch[transformers]) (3.1.4)\n",
      "Requirement already satisfied: fsspec in /usr/local/lib/python3.10/dist-packages (from torch[transformers]) (2023.6.0)\n",
      "Collecting nvidia-cuda-nvrtc-cu12==12.1.105 (from torch[transformers])\n",
      "  Using cached nvidia_cuda_nvrtc_cu12-12.1.105-py3-none-manylinux1_x86_64.whl (23.7 MB)\n",
      "Collecting nvidia-cuda-runtime-cu12==12.1.105 (from torch[transformers])\n",
      "  Using cached nvidia_cuda_runtime_cu12-12.1.105-py3-none-manylinux1_x86_64.whl (823 kB)\n",
      "Collecting nvidia-cuda-cupti-cu12==12.1.105 (from torch[transformers])\n",
      "  Using cached nvidia_cuda_cupti_cu12-12.1.105-py3-none-manylinux1_x86_64.whl (14.1 MB)\n",
      "Collecting nvidia-cudnn-cu12==8.9.2.26 (from torch[transformers])\n",
      "  Using cached nvidia_cudnn_cu12-8.9.2.26-py3-none-manylinux1_x86_64.whl (731.7 MB)\n",
      "Collecting nvidia-cublas-cu12==12.1.3.1 (from torch[transformers])\n",
      "  Using cached nvidia_cublas_cu12-12.1.3.1-py3-none-manylinux1_x86_64.whl (410.6 MB)\n",
      "Collecting nvidia-cufft-cu12==11.0.2.54 (from torch[transformers])\n",
      "  Using cached nvidia_cufft_cu12-11.0.2.54-py3-none-manylinux1_x86_64.whl (121.6 MB)\n",
      "Collecting nvidia-curand-cu12==10.3.2.106 (from torch[transformers])\n",
      "  Using cached nvidia_curand_cu12-10.3.2.106-py3-none-manylinux1_x86_64.whl (56.5 MB)\n",
      "Collecting nvidia-cusolver-cu12==11.4.5.107 (from torch[transformers])\n",
      "  Using cached nvidia_cusolver_cu12-11.4.5.107-py3-none-manylinux1_x86_64.whl (124.2 MB)\n",
      "Collecting nvidia-cusparse-cu12==12.1.0.106 (from torch[transformers])\n",
      "  Using cached nvidia_cusparse_cu12-12.1.0.106-py3-none-manylinux1_x86_64.whl (196.0 MB)\n",
      "Collecting nvidia-nccl-cu12==2.20.5 (from torch[transformers])\n",
      "  Using cached nvidia_nccl_cu12-2.20.5-py3-none-manylinux2014_x86_64.whl (176.2 MB)\n",
      "Collecting nvidia-nvtx-cu12==12.1.105 (from torch[transformers])\n",
      "  Using cached nvidia_nvtx_cu12-12.1.105-py3-none-manylinux1_x86_64.whl (99 kB)\n",
      "Requirement already satisfied: triton==2.3.0 in /usr/local/lib/python3.10/dist-packages (from torch[transformers]) (2.3.0)\n",
      "Collecting nvidia-nvjitlink-cu12 (from nvidia-cusolver-cu12==11.4.5.107->torch[transformers])\n",
      "  Downloading nvidia_nvjitlink_cu12-12.5.40-py3-none-manylinux2014_x86_64.whl (21.3 MB)\n",
      "\u001b[2K     \u001b[90m━━━━━━━━━━━━━━━━━━━━━━━━━━━━━━━━━━━━━━━━\u001b[0m \u001b[32m21.3/21.3 MB\u001b[0m \u001b[31m74.3 MB/s\u001b[0m eta \u001b[36m0:00:00\u001b[0m\n",
      "\u001b[?25hRequirement already satisfied: requests in /usr/local/lib/python3.10/dist-packages (from huggingface-hub->accelerate) (2.31.0)\n",
      "Requirement already satisfied: tqdm>=4.42.1 in /usr/local/lib/python3.10/dist-packages (from huggingface-hub->accelerate) (4.66.4)\n",
      "Requirement already satisfied: MarkupSafe>=2.0 in /usr/local/lib/python3.10/dist-packages (from jinja2->torch[transformers]) (2.1.5)\n",
      "Requirement already satisfied: mpmath>=0.19 in /usr/local/lib/python3.10/dist-packages (from sympy->torch[transformers]) (1.3.0)\n",
      "Requirement already satisfied: charset-normalizer<4,>=2 in /usr/local/lib/python3.10/dist-packages (from requests->huggingface-hub->accelerate) (3.3.2)\n",
      "Requirement already satisfied: idna<4,>=2.5 in /usr/local/lib/python3.10/dist-packages (from requests->huggingface-hub->accelerate) (3.7)\n",
      "Requirement already satisfied: urllib3<3,>=1.21.1 in /usr/local/lib/python3.10/dist-packages (from requests->huggingface-hub->accelerate) (2.0.7)\n",
      "Requirement already satisfied: certifi>=2017.4.17 in /usr/local/lib/python3.10/dist-packages (from requests->huggingface-hub->accelerate) (2024.2.2)\n",
      "Installing collected packages: nvidia-nvtx-cu12, nvidia-nvjitlink-cu12, nvidia-nccl-cu12, nvidia-curand-cu12, nvidia-cufft-cu12, nvidia-cuda-runtime-cu12, nvidia-cuda-nvrtc-cu12, nvidia-cuda-cupti-cu12, nvidia-cublas-cu12, nvidia-cusparse-cu12, nvidia-cudnn-cu12, nvidia-cusolver-cu12, bitsandbytes, accelerate\n",
      "Successfully installed accelerate-0.30.1 bitsandbytes-0.43.1 nvidia-cublas-cu12-12.1.3.1 nvidia-cuda-cupti-cu12-12.1.105 nvidia-cuda-nvrtc-cu12-12.1.105 nvidia-cuda-runtime-cu12-12.1.105 nvidia-cudnn-cu12-8.9.2.26 nvidia-cufft-cu12-11.0.2.54 nvidia-curand-cu12-10.3.2.106 nvidia-cusolver-cu12-11.4.5.107 nvidia-cusparse-cu12-12.1.0.106 nvidia-nccl-cu12-2.20.5 nvidia-nvjitlink-cu12-12.5.40 nvidia-nvtx-cu12-12.1.105\n"
     ]
    }
   ],
   "source": [
    "!pip install bitsandbytes accelerate torch[transformers]"
   ]
  },
  {
   "cell_type": "code",
   "execution_count": null,
   "metadata": {
    "colab": {
     "base_uri": "https://localhost:8080/"
    },
    "id": "rEuX15yLcYR4",
    "outputId": "229f7d04-496e-4143-c9c0-20b3dd2efed5"
   },
   "outputs": [
    {
     "name": "stderr",
     "output_type": "stream",
     "text": [
      "Special tokens have been added in the vocabulary, make sure the associated word embeddings are fine-tuned or trained.\n"
     ]
    },
    {
     "name": "stdout",
     "output_type": "stream",
     "text": [
      "<BOS_TOKEN><|START_OF_TURN_TOKEN|><|SYSTEM_TOKEN|># Safety Preamble\n",
      "The instructions in this section override those in the task description and style guide sections. Don't answer questions that are harmful or immoral.\n",
      "\n",
      "# System Preamble\n",
      "## Basic Rules\n",
      "You are a powerful conversational AI trained by Cohere to help people. You are augmented by a number of tools, and your job is to use and consume the output of these tools to best help the user. You will see a conversation history between yourself and a user, ending with an utterance from the user. You will then see a specific instruction instructing you what kind of response to generate. When you answer the user's requests, you cite your sources in your answers, according to those instructions.\n",
      "\n",
      "# User Preamble\n",
      "## Task and Context\n",
      "You help people answer their questions and other requests interactively. You will be asked a very wide array of requests on all kinds of topics. You will be equipped with a wide range of search engines or similar tools to help you, which you use to research your answer. You should focus on serving the user's needs as best you can, which will be wide-ranging.\n",
      "\n",
      "## Style Guide\n",
      "Unless the user asks for a different style of answer, you should answer in full sentences, using proper grammar and spelling.<|END_OF_TURN_TOKEN|><|START_OF_TURN_TOKEN|><|USER_TOKEN|>Whats the biggest penguin in the world?<|END_OF_TURN_TOKEN|><|START_OF_TURN_TOKEN|><|SYSTEM_TOKEN|><results>\n",
      "Document: 0\n",
      "title: Tall penguins\n",
      "text: Emperor penguins are the tallest growing up to 122 cm in height.\n",
      "\n",
      "Document: 1\n",
      "title: Penguin habitats\n",
      "text: Emperor penguins only live in Antarctica.\n",
      "</results><|END_OF_TURN_TOKEN|><|START_OF_TURN_TOKEN|><|SYSTEM_TOKEN|>Carefully perform the following instructions, in order, starting each with a new line.\n",
      "Firstly, Decide which of the retrieved documents are relevant to the user's last input by writing 'Relevant Documents:' followed by comma-separated list of document numbers. If none are relevant, you should instead write 'None'.\n",
      "Secondly, Decide which of the retrieved documents contain facts that should be cited in a good answer to the user's last input by writing 'Cited Documents:' followed a comma-separated list of document numbers. If you dont want to cite any of them, you should instead write 'None'.\n",
      "Thirdly, Write 'Answer:' followed by a response to the user's last input in high quality natural english. Use the retrieved documents to help you. Do not insert any citations or grounding markup.\n",
      "Finally, Write 'Grounded answer:' followed by a response to the user's last input in high quality natural english. Use the symbols <co: doc> and </co: doc> to indicate when a fact comes from a document in the search result, e.g <co: 0>my fact</co: 0> for a fact from document 0.<|END_OF_TURN_TOKEN|><|START_OF_TURN_TOKEN|><|CHATBOT_TOKEN|>\n"
     ]
    }
   ],
   "source": [
    "from transformers import AutoTokenizer\n",
    "\n",
    "model_id = \"CohereForAI/c4ai-command-r-v01\"\n",
    "tokenizer = AutoTokenizer.from_pretrained(model_id)\n",
    "\n",
    "# define conversation input:\n",
    "conversation = [\n",
    "    {\"role\": \"user\", \"content\": \"Whats the biggest penguin in the world?\"}\n",
    "]\n",
    "# define documents to ground on:\n",
    "documents = [\n",
    "    { \"title\": \"Tall penguins\", \"text\": \"Emperor penguins are the tallest growing up to 122 cm in height.\" },\n",
    "    { \"title\": \"Penguin habitats\", \"text\": \"Emperor penguins only live in Antarctica.\"}\n",
    "]\n",
    "\n",
    "# render the tool use prompt as a string:\n",
    "grounded_generation_prompt = tokenizer.apply_grounded_generation_template(\n",
    "    conversation,\n",
    "    documents=documents,\n",
    "    citation_mode=\"accurate\", # or \"fast\"\n",
    "    tokenize=False,\n",
    "    add_generation_prompt=True,\n",
    ")\n",
    "print(grounded_generation_prompt)\n"
   ]
  },
  {
   "cell_type": "code",
   "execution_count": null,
   "metadata": {
    "colab": {
     "base_uri": "https://localhost:8080/"
    },
    "id": "xx8IfIXR-JCA",
    "outputId": "ca8771cf-b7b7-4415-dd18-661b26715a1f"
   },
   "outputs": [
    {
     "name": "stdout",
     "output_type": "stream",
     "text": [
      "torch.Size([1, 579])\n"
     ]
    }
   ],
   "source": [
    "# render the tool use prompt as a string:\n",
    "grounded_generation_tokens = tokenizer.apply_grounded_generation_template(\n",
    "    conversation,\n",
    "    documents=documents,\n",
    "    citation_mode=\"accurate\", # or \"fast\"\n",
    "    tokenize=True,\n",
    "    add_generation_prompt=True,\n",
    "    return_tensors=\"pt\"\n",
    ")\n",
    "print(grounded_generation_tokens.shape)\n"
   ]
  },
  {
   "cell_type": "code",
   "execution_count": null,
   "metadata": {
    "id": "NUXvujJv-N2N"
   },
   "outputs": [],
   "source": []
  },
  {
   "cell_type": "code",
   "execution_count": null,
   "metadata": {
    "colab": {
     "base_uri": "https://localhost:8080/",
     "height": 123,
     "referenced_widgets": [
      "af6ad6bf16e646d5a0567ddfa73c6ca5",
      "b61c0f80b9f94fd9bf57deabbd5495a9",
      "829757d3e5174cefbfae580ca6036e37",
      "97229a811297410db94d6aca18d1f392",
      "346b3544032a475fadc9c0fdc6049eab",
      "490d23257adb40cab16051b2982b7990",
      "4646ae17db21490dae6d024d1fa1d1f9",
      "5e9f19d874ba42d3b63b7f8b17ea73cb",
      "08d61ff53e88466da8c2112a0539eddf",
      "3b36a53161634d1ebc86bbb59b8e2a4f",
      "258526fc9c1d44c59100a35defc1b478"
     ]
    },
    "id": "Jj92pRa8Dj1e",
    "outputId": "e9eb5f4e-4be4-4fa8-c2b8-8a641a4b9903"
   },
   "outputs": [
    {
     "name": "stderr",
     "output_type": "stream",
     "text": [
      "Special tokens have been added in the vocabulary, make sure the associated word embeddings are fine-tuned or trained.\n",
      "Unused kwargs: ['_load_in_4bit', '_load_in_8bit', 'quant_method']. These kwargs are not used in <class 'transformers.utils.quantization_config.BitsAndBytesConfig'>.\n",
      "`low_cpu_mem_usage` was None, now set to True since model is quantized.\n"
     ]
    },
    {
     "data": {
      "application/vnd.jupyter.widget-view+json": {
       "model_id": "af6ad6bf16e646d5a0567ddfa73c6ca5",
       "version_major": 2,
       "version_minor": 0
      },
      "text/plain": [
       "Loading checkpoint shards:   0%|          | 0/5 [00:00<?, ?it/s]"
      ]
     },
     "metadata": {},
     "output_type": "display_data"
    }
   ],
   "source": [
    "# pip install 'transformers>=4.39.1' bitsandbytes accelerate\n",
    "from transformers import AutoTokenizer, AutoModelForCausalLM\n",
    "\n",
    "model_id = \"CohereForAI/c4ai-command-r-v01-4bit\"\n",
    "tokenizer = AutoTokenizer.from_pretrained(model_id)\n",
    "model = AutoModelForCausalLM.from_pretrained(model_id)"
   ]
  },
  {
   "cell_type": "code",
   "execution_count": null,
   "metadata": {
    "colab": {
     "base_uri": "https://localhost:8080/"
    },
    "id": "wJqfbO0a9Obz",
    "outputId": "69ed610b-7a2c-479b-b774-8ad45e6a4696"
   },
   "outputs": [
    {
     "name": "stderr",
     "output_type": "stream",
     "text": [
      "/usr/local/lib/python3.10/dist-packages/transformers/generation/utils.py:1659: UserWarning: You are calling .generate() with the `input_ids` being on a device type different than your model's device. `input_ids` is on cpu, whereas the model is on cuda. You may experience unexpected behaviors or slower generation. Please make sure that you have put `input_ids` to the correct device by calling for example input_ids = input_ids.to('cuda') before running `.generate()`.\n",
      "  warnings.warn(\n"
     ]
    },
    {
     "name": "stdout",
     "output_type": "stream",
     "text": [
      "<BOS_TOKEN><|START_OF_TURN_TOKEN|><|SYSTEM_TOKEN|># Safety Preamble\n",
      "The instructions in this section override those in the task description and style guide sections. Don't answer questions that are harmful or immoral.\n",
      "\n",
      "# System Preamble\n",
      "## Basic Rules\n",
      "You are a powerful conversational AI trained by Cohere to help people. You are augmented by a number of tools, and your job is to use and consume the output of these tools to best help the user. You will see a conversation history between yourself and a user, ending with an utterance from the user. You will then see a specific instruction instructing you what kind of response to generate. When you answer the user's requests, you cite your sources in your answers, according to those instructions.\n",
      "\n",
      "# User Preamble\n",
      "## Task and Context\n",
      "You help people answer their questions and other requests interactively. You will be asked a very wide array of requests on all kinds of topics. You will be equipped with a wide range of search engines or similar tools to help you, which you use to research your answer. You should focus on serving the user's needs as best you can, which will be wide-ranging.\n",
      "\n",
      "## Style Guide\n",
      "Unless the user asks for a different style of answer, you should answer in full sentences, using proper grammar and spelling.<|END_OF_TURN_TOKEN|><|START_OF_TURN_TOKEN|><|USER_TOKEN|>Whats the biggest penguin in the world?<|END_OF_TURN_TOKEN|><|START_OF_TURN_TOKEN|><|SYSTEM_TOKEN|><results>\n",
      "Document: 0\n",
      "title: Tall penguins\n",
      "text: Emperor penguins are the tallest growing up to 122 cm in height.\n",
      "\n",
      "Document: 1\n",
      "title: Penguin habitats\n",
      "text: Emperor penguins only live in Antarctica.\n",
      "</results><|END_OF_TURN_TOKEN|><|START_OF_TURN_TOKEN|><|SYSTEM_TOKEN|>Carefully perform the following instructions, in order, starting each with a new line.\n",
      "Firstly, Decide which of the retrieved documents are relevant to the user's last input by writing 'Relevant Documents:' followed by comma-separated list of document numbers. If none are relevant, you should instead write 'None'.\n",
      "Secondly, Decide which of the retrieved documents contain facts that should be cited in a good answer to the user's last input by writing 'Cited Documents:' followed a comma-separated list of document numbers. If you dont want to cite any of them, you should instead write 'None'.\n",
      "Thirdly, Write 'Answer:' followed by a response to the user's last input in high quality natural english. Use the retrieved documents to help you. Do not insert any citations or grounding markup.\n",
      "Finally, Write 'Grounded answer:' followed by a response to the user's last input in high quality natural english. Use the symbols <co: doc> and </co: doc> to indicate when a fact comes from a document in the search result, e.g <co: 0>my fact</co: 0> for a fact from document 0.<|END_OF_TURN_TOKEN|><|START_OF_TURN_TOKEN|><|CHATBOT_TOKEN|>Relevant Documents: 0,1\n",
      "Cited Documents: 0\n",
      "Answer: The tallest species of penguin in the world is the emperor penguin (Apteryx spp.). Emperor penguins can grow up to 122 cm tall.\n",
      "Grounded answer: The tallest species of penguin in the world is the <co: 0>emperor penguin</co: 0> <co: 0>(Apteryx spp.)</co: 0>. Emperor penguins can <co: 0>grow up to 122 cm tall.</co: 0><|END_OF_TURN_TOKEN|>\n"
     ]
    }
   ],
   "source": [
    "gen_tokens = model.generate(\n",
    "    grounded_generation_tokens,\n",
    "    max_new_tokens=512,\n",
    "    do_sample=True,\n",
    "    temperature=0.3,\n",
    "    )\n",
    "\n",
    "gen_text = tokenizer.decode(gen_tokens[0])\n",
    "print(gen_text)\n"
   ]
  },
  {
   "cell_type": "code",
   "execution_count": null,
   "metadata": {
    "id": "rXfTSItZD_F_"
   },
   "outputs": [],
   "source": []
  },
  {
   "cell_type": "code",
   "execution_count": null,
   "metadata": {
    "colab": {
     "base_uri": "https://localhost:8080/"
    },
    "id": "9dwbu3ESERtF",
    "outputId": "48d161cd-9d65-4404-f82b-bb05e86143bb"
   },
   "outputs": [
    {
     "data": {
      "text/plain": [
       "3"
      ]
     },
     "execution_count": 17,
     "metadata": {},
     "output_type": "execute_result"
    }
   ],
   "source": [
    "def format_for_command_r(documents):\n",
    "    return [{'title': f'Document {index + 1}', 'text': document['metadata']['text']} for index, document in enumerate(documents)]\n",
    "\n",
    "command_r_docs = format_for_command_r(query_from_pinecone('I lost my card', top_k=3, include_metadata=True))\n",
    "\n",
    "len(command_r_docs)"
   ]
  },
  {
   "cell_type": "code",
   "execution_count": null,
   "metadata": {
    "colab": {
     "base_uri": "https://localhost:8080/"
    },
    "id": "0Ti3s4oK-I1M",
    "outputId": "73cfe021-1d48-41ca-e599-3552ea4de0c4"
   },
   "outputs": [
    {
     "name": "stdout",
     "output_type": "stream",
     "text": [
      "<BOS_TOKEN><|START_OF_TURN_TOKEN|><|SYSTEM_TOKEN|># Safety Preamble\n",
      "The instructions in this section override those in the task description and style guide sections. Don't answer questions that are harmful or immoral.\n",
      "\n",
      "# System Preamble\n",
      "## Basic Rules\n",
      "You are a powerful conversational AI trained by Cohere to help people. You are augmented by a number of tools, and your job is to use and consume the output of these tools to best help the user. You will see a conversation history between yourself and a user, ending with an utterance from the user. You will then see a specific instruction instructing you what kind of response to generate. When you answer the user's requests, you cite your sources in your answers, according to those instructions.\n",
      "\n",
      "# User Preamble\n",
      "## Task and Context\n",
      "You help people answer their questions and other requests interactively. You will be asked a very wide array of requests on all kinds of topics. You will be equipped with a wide range of search engines or similar tools to help you, which you use to research your answer. You should focus on serving the user's needs as best you can, which will be wide-ranging.\n",
      "\n",
      "## Style Guide\n",
      "Unless the user asks for a different style of answer, you should answer in full sentences, using proper grammar and spelling.<|END_OF_TURN_TOKEN|><|START_OF_TURN_TOKEN|><|USER_TOKEN|>I lost my card<|END_OF_TURN_TOKEN|><|START_OF_TURN_TOKEN|><|SYSTEM_TOKEN|><results>\n",
      "Document: 0\n",
      "title: Document 1\n",
      "text: \n",
      "\n",
      "\n",
      "\n",
      "You’re offline. This is a read only version of the page.\n",
      "\n",
      "\n",
      "\n",
      "\n",
      "\n",
      "\n",
      "\n",
      "\n",
      "\n",
      "\n",
      "\n",
      "\n",
      "\n",
      "\n",
      "\n",
      "\n",
      "\n",
      "\n",
      "\n",
      "\n",
      "\n",
      "\n",
      "\n",
      "\n",
      "\n",
      "\n",
      "Skip to content\n",
      "\n",
      "\n",
      " \n",
      "\n",
      "\n",
      "\n",
      "\n",
      "\n",
      "\n",
      "Do you need to submit W-2s to SSA? Business Services Online registration has changed!\n",
      "\n",
      "\n",
      "\n",
      "\n",
      "\n",
      "\n",
      "\n",
      "\n",
      "\n",
      "\n",
      "What should I do if I get a call claiming there's a problem with my Social Security number or account?\n",
      "\n",
      "\n",
      "\n",
      "Skip to main content Social Security Search  Menu  Español  Sign in\n",
      "\n",
      "\n",
      "\n",
      "\n",
      "Frequently Asked Questions\n",
      "\n",
      "\n",
      "\n",
      "\n",
      "Last Modified: \n",
      "\n",
      "\n",
      "\n",
      "\n",
      "\n",
      "\n",
      "\n",
      "\n",
      "\n",
      "\n",
      "\n",
      "\n",
      "\n",
      "\n",
      "\n",
      "\n",
      "\n",
      "FAQ Home\n",
      "\n",
      "\n",
      "Topics\n",
      "\n",
      "\r\n",
      "\t\t\t\t\tKA-01735\r\n",
      "\t\t\t\t\n",
      "\n",
      "\n",
      "\n",
      "\n",
      "\n",
      " Print\n",
      "\n",
      "\n",
      "\n",
      "How do I get a replacement Medicare card? \n",
      "\n",
      "\n",
      "\n",
      "\n",
      "\n",
      "\n",
      "\n",
      "\n",
      "\n",
      "\n",
      "\n",
      "\n",
      "\n",
      "\n",
      "\n",
      "\n",
      "\n",
      "\n",
      "\n",
      "\n",
      "\n",
      "\n",
      "\n",
      "\n",
      "\n",
      "Views: \n",
      "\n",
      "\n",
      "\n",
      "If your Medicare card was lost, stolen, or destroyed, you can request a replacement online at Medicare.gov.\n",
      "You can print an official copy of your card from your online Medicare account \n",
      "or call 1-800-MEDICARE (1-800-633-4227 TTY 1-877-486-2048) to order a replacement card to be sent in the mail.\n",
      "\n",
      "\n",
      "\n",
      "\n",
      "\n",
      "\n",
      "\n",
      "\n",
      "\n",
      "\n",
      "\n",
      "\n",
      "\n",
      "\n",
      "\n",
      "\n",
      "\n",
      "\n",
      "Comments (0)\n",
      "\n",
      "\n",
      "\n",
      "\n",
      "\n",
      "\n",
      "\n",
      "\n",
      "\n",
      "\n",
      "\n",
      "\n",
      "\n",
      "\n",
      "\n",
      "Footer menu\n",
      "\n",
      "\n",
      "\n",
      "\n",
      "\n",
      "\n",
      "\n",
      "Give us Feedback.\n",
      "\n",
      "Did this answer your question?\n",
      "\n",
      "No\n",
      "Yes\n",
      "No\n",
      "\n",
      "Thanks for your feedback.\n",
      "\n",
      "\n",
      "\n",
      "\n",
      "\n",
      "\n",
      "\n",
      "\n",
      "Document: 1\n",
      "title: Document 2\n",
      "text: \n",
      "\n",
      "\n",
      "\n",
      "You’re offline. This is a read only version of the page.\n",
      "\n",
      "\n",
      "\n",
      "\n",
      "\n",
      "\n",
      "\n",
      "\n",
      "\n",
      "\n",
      "\n",
      "\n",
      "\n",
      "\n",
      "\n",
      "\n",
      "\n",
      "\n",
      "\n",
      "\n",
      "\n",
      "\n",
      "\n",
      "\n",
      "\n",
      "\n",
      "Skip to content\n",
      "\n",
      "\n",
      " \n",
      "\n",
      "\n",
      "\n",
      "\n",
      "\n",
      "\n",
      "Do you need to submit W-2s to SSA? Business Services Online registration has changed!\n",
      "\n",
      "\n",
      "\n",
      "\n",
      "\n",
      "\n",
      "\n",
      "\n",
      "\n",
      "\n",
      "What should I do if I get a call claiming there's a problem with my Social Security number or account?\n",
      "\n",
      "\n",
      "\n",
      "Skip to main content Social Security Search  Menu  Español  Sign in\n",
      "\n",
      "\n",
      "\n",
      "\n",
      "Frequently Asked Questions\n",
      "\n",
      "\n",
      "\n",
      "\n",
      "Last Modified: \n",
      "\n",
      "\n",
      "\n",
      "\n",
      "\n",
      "\n",
      "\n",
      "\n",
      "\n",
      "\n",
      "\n",
      "\n",
      "\n",
      "\n",
      "\n",
      "\n",
      "\n",
      "FAQ Home\n",
      "\n",
      "\n",
      "Topics\n",
      "\n",
      "\r\n",
      "\t\t\t\t\tKA-02148\r\n",
      "\t\t\t\t\n",
      "\n",
      "\n",
      "\n",
      "\n",
      "\n",
      " Print\n",
      "\n",
      "\n",
      "\n",
      "What is TRICARE ?\n",
      "\n",
      "\n",
      "\n",
      "\n",
      "\n",
      "\n",
      "\n",
      "\n",
      "\n",
      "\n",
      "\n",
      "\n",
      "\n",
      "\n",
      "\n",
      "\n",
      "\n",
      "\n",
      "\n",
      "\n",
      "\n",
      "\n",
      "\n",
      "\n",
      "\n",
      "Views: \n",
      "\n",
      "\n",
      "\n",
      "TRICARE is the health care program serving military service members, retirees, their families and survivors worldwide.  \n",
      "More Information\n",
      "TRICARE and Recent Changes In The Law\n",
      "TRICARE (Defense Health Agency), (Disclaimer).\n",
      "\n",
      "\n",
      "\n",
      "\n",
      "\n",
      "\n",
      "\n",
      "\n",
      "\n",
      "\n",
      "\n",
      "\n",
      "\n",
      "\n",
      "\n",
      "\n",
      "\n",
      "\n",
      "Comments (0)\n",
      "\n",
      "\n",
      "\n",
      "\n",
      "\n",
      "\n",
      "\n",
      "\n",
      "\n",
      "\n",
      "\n",
      "\n",
      "\n",
      "\n",
      "\n",
      "Footer menu\n",
      "\n",
      "\n",
      "\n",
      "\n",
      "\n",
      "\n",
      "\n",
      "Give us Feedback.\n",
      "\n",
      "Did this answer your question?\n",
      "\n",
      "No\n",
      "Yes\n",
      "No\n",
      "\n",
      "Thanks for your feedback.\n",
      "\n",
      "\n",
      "\n",
      "\n",
      "\n",
      "\n",
      "\n",
      "\n",
      "Document: 2\n",
      "title: Document 3\n",
      "text: \n",
      "\n",
      "\n",
      "\n",
      "You’re offline. This is a read only version of the page.\n",
      "\n",
      "\n",
      "\n",
      "\n",
      "\n",
      "\n",
      "\n",
      "\n",
      "\n",
      "\n",
      "\n",
      "\n",
      "\n",
      "\n",
      "\n",
      "\n",
      "\n",
      "\n",
      "\n",
      "\n",
      "\n",
      "\n",
      "\n",
      "\n",
      "\n",
      "\n",
      "Skip to content\n",
      "\n",
      "\n",
      " \n",
      "\n",
      "\n",
      "\n",
      "\n",
      "\n",
      "\n",
      "Do you need to submit W-2s to SSA? Business Services Online registration has changed!\n",
      "\n",
      "\n",
      "\n",
      "\n",
      "\n",
      "\n",
      "\n",
      "\n",
      "\n",
      "\n",
      "What should I do if I get a call claiming there's a problem with my Social Security number or account?\n",
      "\n",
      "\n",
      "\n",
      "Skip to main content Social Security Search  Menu  Español  Sign in\n",
      "\n",
      "\n",
      "\n",
      "\n",
      "Frequently Asked Questions\n",
      "\n",
      "\n",
      "\n",
      "\n",
      "Last Modified: \n",
      "\n",
      "\n",
      "\n",
      "\n",
      "\n",
      "\n",
      "\n",
      "\n",
      "\n",
      "\n",
      "\n",
      "\n",
      "\n",
      "\n",
      "\n",
      "\n",
      "\n",
      "FAQ Home\n",
      "\n",
      "\n",
      "Topics\n",
      "\n",
      "\r\n",
      "\t\t\t\t\tKA-02713\r\n",
      "\t\t\t\t\n",
      "\n",
      "\n",
      "\n",
      "\n",
      "\n",
      " Print\n",
      "\n",
      "\n",
      "\n",
      "How do I terminate my Medicare Part B (medical insurance)?\n",
      "\n",
      "\n",
      "\n",
      "\n",
      "\n",
      "\n",
      "\n",
      "\n",
      "\n",
      "\n",
      "\n",
      "\n",
      "\n",
      "\n",
      "\n",
      "\n",
      "\n",
      "\n",
      "\n",
      "\n",
      "\n",
      "\n",
      "\n",
      "\n",
      "\n",
      "Views: \n",
      "\n",
      "\n",
      "\n",
      "You can voluntarily terminate your Medicare Part B (Medical Insurance). However, you may need to have a personal interview with \n",
      "    us to review the risks of dropping coverage and for assistance with your request. To find out more about how to terminate Medicare Part B or to schedule a personal interview, contact us at 1-800-772-1213 (TTY: 1-800-325-0778) or visit your nearest Social Security office.\n",
      "If you send us a request to terminate your Part B and then change your mind, you must send a request to cancel the request of termination before the date that Part B ends.\n",
      "For additional information, go to the How to drop Part A & Part B page.\n",
      "\n",
      "\n",
      "\n",
      "\n",
      "\n",
      "\n",
      "\n",
      "\n",
      "\n",
      "\n",
      "\n",
      "\n",
      "\n",
      "\n",
      "\n",
      "\n",
      "\n",
      "\n",
      "Comments (0)\n",
      "\n",
      "\n",
      "\n",
      "\n",
      "\n",
      "\n",
      "\n",
      "\n",
      "\n",
      "\n",
      "\n",
      "\n",
      "\n",
      "\n",
      "\n",
      "Footer menu\n",
      "\n",
      "\n",
      "\n",
      "\n",
      "\n",
      "\n",
      "\n",
      "Give us Feedback.\n",
      "\n",
      "Did this answer your question?\n",
      "\n",
      "No\n",
      "Yes\n",
      "No\n",
      "\n",
      "Thanks for your feedback.\n",
      "\n",
      "\n",
      "\n",
      "\n",
      "\n",
      "\n",
      "\n",
      "</results><|END_OF_TURN_TOKEN|><|START_OF_TURN_TOKEN|><|SYSTEM_TOKEN|>Carefully perform the following instructions, in order, starting each with a new line.\n",
      "Firstly, Decide which of the retrieved documents are relevant to the user's last input by writing 'Relevant Documents:' followed by comma-separated list of document numbers. If none are relevant, you should instead write 'None'.\n",
      "Secondly, Decide which of the retrieved documents contain facts that should be cited in a good answer to the user's last input by writing 'Cited Documents:' followed a comma-separated list of document numbers. If you dont want to cite any of them, you should instead write 'None'.\n",
      "Finally, Write 'Grounded answer:' followed by a response to the user's last input in high quality natural english. Use the symbols <co: doc> and </co: doc> to indicate when a fact comes from a document in the search result, e.g <co: 0>my fact</co: 0> for a fact from document 0.<|END_OF_TURN_TOKEN|><|START_OF_TURN_TOKEN|><|CHATBOT_TOKEN|>Relevant Documents: 0\n",
      "Cited Documents: 0\n",
      "Grounded answer: If you've lost your Medicare card, you can request a <co: 0>replacement online at Medicare.gov.</co: 0> You can <co: 0>access an official copy from your online Medicare account</co: 0>, or <co: 0>call 1-800-MEDICARE</co: 0> to have a <co: 0>replacement mailed to you.</co: 0><|END_OF_TURN_TOKEN|>\n"
     ]
    }
   ],
   "source": [
    "# define conversation input:\n",
    "conversation = [\n",
    "    {\"role\": \"user\", \"content\": \"I lost my card\"}\n",
    "]\n",
    "\n",
    "# render the tool use prompt as a string:\n",
    "grounded_generation_tokens = tokenizer.apply_grounded_generation_template(\n",
    "    conversation,\n",
    "    documents=command_r_docs,\n",
    "    citation_mode=\"citation\",\n",
    "    tokenize=True,\n",
    "    add_generation_prompt=True,\n",
    "    return_tensors=\"pt\"\n",
    ")\n",
    "\n",
    "gen_tokens = model.generate(\n",
    "    grounded_generation_tokens,\n",
    "    max_new_tokens=512,\n",
    "    do_sample=True,\n",
    "    temperature=0.3,\n",
    "    )\n",
    "\n",
    "gen_text = tokenizer.decode(gen_tokens[0])\n",
    "print(gen_text)\n"
   ]
  },
  {
   "cell_type": "code",
   "execution_count": null,
   "metadata": {
    "id": "xICDFTOOE1Ee"
   },
   "outputs": [],
   "source": []
  }
 ],
 "metadata": {
  "accelerator": "GPU",
  "colab": {
   "gpuType": "A100",
   "machine_shape": "hm",
   "provenance": []
  },
  "kernelspec": {
   "display_name": "Python (/usr/bin/python3)",
   "language": "python",
   "name": "my_python3"
  },
  "language_info": {
   "codemirror_mode": {
    "name": "ipython",
    "version": 3
   },
   "file_extension": ".py",
   "mimetype": "text/x-python",
   "name": "python",
   "nbconvert_exporter": "python",
   "pygments_lexer": "ipython3",
   "version": "3.9.6"
  },
  "widgets": {
   "application/vnd.jupyter.widget-state+json": {
    "001e2bb0a89d41e9b6aa9280ad55f063": {
     "model_module": "@jupyter-widgets/base",
     "model_module_version": "1.2.0",
     "model_name": "LayoutModel",
     "state": {
      "_model_module": "@jupyter-widgets/base",
      "_model_module_version": "1.2.0",
      "_model_name": "LayoutModel",
      "_view_count": null,
      "_view_module": "@jupyter-widgets/base",
      "_view_module_version": "1.2.0",
      "_view_name": "LayoutView",
      "align_content": null,
      "align_items": null,
      "align_self": null,
      "border": null,
      "bottom": null,
      "display": null,
      "flex": null,
      "flex_flow": null,
      "grid_area": null,
      "grid_auto_columns": null,
      "grid_auto_flow": null,
      "grid_auto_rows": null,
      "grid_column": null,
      "grid_gap": null,
      "grid_row": null,
      "grid_template_areas": null,
      "grid_template_columns": null,
      "grid_template_rows": null,
      "height": null,
      "justify_content": null,
      "justify_items": null,
      "left": null,
      "margin": null,
      "max_height": null,
      "max_width": null,
      "min_height": null,
      "min_width": null,
      "object_fit": null,
      "object_position": null,
      "order": null,
      "overflow": null,
      "overflow_x": null,
      "overflow_y": null,
      "padding": null,
      "right": null,
      "top": null,
      "visibility": null,
      "width": null
     }
    },
    "041d716a7a294bdfaa804935def5327b": {
     "model_module": "@jupyter-widgets/controls",
     "model_module_version": "1.5.0",
     "model_name": "HBoxModel",
     "state": {
      "_dom_classes": [],
      "_model_module": "@jupyter-widgets/controls",
      "_model_module_version": "1.5.0",
      "_model_name": "HBoxModel",
      "_view_count": null,
      "_view_module": "@jupyter-widgets/controls",
      "_view_module_version": "1.5.0",
      "_view_name": "HBoxView",
      "box_style": "",
      "children": [
       "IPY_MODEL_046182a56d2544e5a54aeefc4bc0ca9e",
       "IPY_MODEL_755217e6353f4902bf23debc8625a734",
       "IPY_MODEL_49584303ce4a40b0ad10e75703adcc6c"
      ],
      "layout": "IPY_MODEL_54a02369c6b8491cb9d148401985ef96"
     }
    },
    "046182a56d2544e5a54aeefc4bc0ca9e": {
     "model_module": "@jupyter-widgets/controls",
     "model_module_version": "1.5.0",
     "model_name": "HTMLModel",
     "state": {
      "_dom_classes": [],
      "_model_module": "@jupyter-widgets/controls",
      "_model_module_version": "1.5.0",
      "_model_name": "HTMLModel",
      "_view_count": null,
      "_view_module": "@jupyter-widgets/controls",
      "_view_module_version": "1.5.0",
      "_view_name": "HTMLView",
      "description": "",
      "description_tooltip": null,
      "layout": "IPY_MODEL_20d3f1a259814b6ea2d540b907eddfbd",
      "placeholder": "​",
      "style": "IPY_MODEL_61b6e1279a1745fd94ba8c68c513c2c4",
      "value": "special_tokens_map.json: 100%"
     }
    },
    "050b5ef402924081847a46c0c6dc5985": {
     "model_module": "@jupyter-widgets/controls",
     "model_module_version": "1.5.0",
     "model_name": "HTMLModel",
     "state": {
      "_dom_classes": [],
      "_model_module": "@jupyter-widgets/controls",
      "_model_module_version": "1.5.0",
      "_model_name": "HTMLModel",
      "_view_count": null,
      "_view_module": "@jupyter-widgets/controls",
      "_view_module_version": "1.5.0",
      "_view_name": "HTMLView",
      "description": "",
      "description_tooltip": null,
      "layout": "IPY_MODEL_111a2a7a9d0743619f22cf5311b6093a",
      "placeholder": "​",
      "style": "IPY_MODEL_70766048465b44c0b3a343d3dda36482",
      "value": " 21.0/21.0 [00:00&lt;00:00, 1.27kB/s]"
     }
    },
    "051f32d2c1bf40bd9e269be3f73a74be": {
     "model_module": "@jupyter-widgets/controls",
     "model_module_version": "1.5.0",
     "model_name": "DescriptionStyleModel",
     "state": {
      "_model_module": "@jupyter-widgets/controls",
      "_model_module_version": "1.5.0",
      "_model_name": "DescriptionStyleModel",
      "_view_count": null,
      "_view_module": "@jupyter-widgets/base",
      "_view_module_version": "1.2.0",
      "_view_name": "StyleView",
      "description_width": ""
     }
    },
    "05a4343887d947d7ba85c7e4966113ae": {
     "model_module": "@jupyter-widgets/controls",
     "model_module_version": "1.5.0",
     "model_name": "DescriptionStyleModel",
     "state": {
      "_model_module": "@jupyter-widgets/controls",
      "_model_module_version": "1.5.0",
      "_model_name": "DescriptionStyleModel",
      "_view_count": null,
      "_view_module": "@jupyter-widgets/base",
      "_view_module_version": "1.2.0",
      "_view_name": "StyleView",
      "description_width": ""
     }
    },
    "08d61ff53e88466da8c2112a0539eddf": {
     "model_module": "@jupyter-widgets/controls",
     "model_module_version": "1.5.0",
     "model_name": "ProgressStyleModel",
     "state": {
      "_model_module": "@jupyter-widgets/controls",
      "_model_module_version": "1.5.0",
      "_model_name": "ProgressStyleModel",
      "_view_count": null,
      "_view_module": "@jupyter-widgets/base",
      "_view_module_version": "1.2.0",
      "_view_name": "StyleView",
      "bar_color": null,
      "description_width": ""
     }
    },
    "111a2a7a9d0743619f22cf5311b6093a": {
     "model_module": "@jupyter-widgets/base",
     "model_module_version": "1.2.0",
     "model_name": "LayoutModel",
     "state": {
      "_model_module": "@jupyter-widgets/base",
      "_model_module_version": "1.2.0",
      "_model_name": "LayoutModel",
      "_view_count": null,
      "_view_module": "@jupyter-widgets/base",
      "_view_module_version": "1.2.0",
      "_view_name": "LayoutView",
      "align_content": null,
      "align_items": null,
      "align_self": null,
      "border": null,
      "bottom": null,
      "display": null,
      "flex": null,
      "flex_flow": null,
      "grid_area": null,
      "grid_auto_columns": null,
      "grid_auto_flow": null,
      "grid_auto_rows": null,
      "grid_column": null,
      "grid_gap": null,
      "grid_row": null,
      "grid_template_areas": null,
      "grid_template_columns": null,
      "grid_template_rows": null,
      "height": null,
      "justify_content": null,
      "justify_items": null,
      "left": null,
      "margin": null,
      "max_height": null,
      "max_width": null,
      "min_height": null,
      "min_width": null,
      "object_fit": null,
      "object_position": null,
      "order": null,
      "overflow": null,
      "overflow_x": null,
      "overflow_y": null,
      "padding": null,
      "right": null,
      "top": null,
      "visibility": null,
      "width": null
     }
    },
    "20d3f1a259814b6ea2d540b907eddfbd": {
     "model_module": "@jupyter-widgets/base",
     "model_module_version": "1.2.0",
     "model_name": "LayoutModel",
     "state": {
      "_model_module": "@jupyter-widgets/base",
      "_model_module_version": "1.2.0",
      "_model_name": "LayoutModel",
      "_view_count": null,
      "_view_module": "@jupyter-widgets/base",
      "_view_module_version": "1.2.0",
      "_view_name": "LayoutView",
      "align_content": null,
      "align_items": null,
      "align_self": null,
      "border": null,
      "bottom": null,
      "display": null,
      "flex": null,
      "flex_flow": null,
      "grid_area": null,
      "grid_auto_columns": null,
      "grid_auto_flow": null,
      "grid_auto_rows": null,
      "grid_column": null,
      "grid_gap": null,
      "grid_row": null,
      "grid_template_areas": null,
      "grid_template_columns": null,
      "grid_template_rows": null,
      "height": null,
      "justify_content": null,
      "justify_items": null,
      "left": null,
      "margin": null,
      "max_height": null,
      "max_width": null,
      "min_height": null,
      "min_width": null,
      "object_fit": null,
      "object_position": null,
      "order": null,
      "overflow": null,
      "overflow_x": null,
      "overflow_y": null,
      "padding": null,
      "right": null,
      "top": null,
      "visibility": null,
      "width": null
     }
    },
    "2178111bcc3240159c12e8d4b81d35df": {
     "model_module": "@jupyter-widgets/base",
     "model_module_version": "1.2.0",
     "model_name": "LayoutModel",
     "state": {
      "_model_module": "@jupyter-widgets/base",
      "_model_module_version": "1.2.0",
      "_model_name": "LayoutModel",
      "_view_count": null,
      "_view_module": "@jupyter-widgets/base",
      "_view_module_version": "1.2.0",
      "_view_name": "LayoutView",
      "align_content": null,
      "align_items": null,
      "align_self": null,
      "border": null,
      "bottom": null,
      "display": null,
      "flex": null,
      "flex_flow": null,
      "grid_area": null,
      "grid_auto_columns": null,
      "grid_auto_flow": null,
      "grid_auto_rows": null,
      "grid_column": null,
      "grid_gap": null,
      "grid_row": null,
      "grid_template_areas": null,
      "grid_template_columns": null,
      "grid_template_rows": null,
      "height": null,
      "justify_content": null,
      "justify_items": null,
      "left": null,
      "margin": null,
      "max_height": null,
      "max_width": null,
      "min_height": null,
      "min_width": null,
      "object_fit": null,
      "object_position": null,
      "order": null,
      "overflow": null,
      "overflow_x": null,
      "overflow_y": null,
      "padding": null,
      "right": null,
      "top": null,
      "visibility": null,
      "width": null
     }
    },
    "258526fc9c1d44c59100a35defc1b478": {
     "model_module": "@jupyter-widgets/controls",
     "model_module_version": "1.5.0",
     "model_name": "DescriptionStyleModel",
     "state": {
      "_model_module": "@jupyter-widgets/controls",
      "_model_module_version": "1.5.0",
      "_model_name": "DescriptionStyleModel",
      "_view_count": null,
      "_view_module": "@jupyter-widgets/base",
      "_view_module_version": "1.2.0",
      "_view_name": "StyleView",
      "description_width": ""
     }
    },
    "307f1ab676974387b50b6d390fca6ed4": {
     "model_module": "@jupyter-widgets/controls",
     "model_module_version": "1.5.0",
     "model_name": "HBoxModel",
     "state": {
      "_dom_classes": [],
      "_model_module": "@jupyter-widgets/controls",
      "_model_module_version": "1.5.0",
      "_model_name": "HBoxModel",
      "_view_count": null,
      "_view_module": "@jupyter-widgets/controls",
      "_view_module_version": "1.5.0",
      "_view_name": "HBoxView",
      "box_style": "",
      "children": [
       "IPY_MODEL_b755ac8bc04349c39e0dc5fc6cb4ac88",
       "IPY_MODEL_ad27a257e4f647b89d809e47d470f79f",
       "IPY_MODEL_4999a10141364b8ab18839320bffd6ed"
      ],
      "layout": "IPY_MODEL_862ae1541542421bbd5f359f9d0e717d"
     }
    },
    "327273aa89264bf3a081ce85bd9ab0f4": {
     "model_module": "@jupyter-widgets/controls",
     "model_module_version": "1.5.0",
     "model_name": "HBoxModel",
     "state": {
      "_dom_classes": [],
      "_model_module": "@jupyter-widgets/controls",
      "_model_module_version": "1.5.0",
      "_model_name": "HBoxModel",
      "_view_count": null,
      "_view_module": "@jupyter-widgets/controls",
      "_view_module_version": "1.5.0",
      "_view_name": "HBoxView",
      "box_style": "",
      "children": [
       "IPY_MODEL_3272e3e26dc14331b7cac6f0fea0bc36",
       "IPY_MODEL_8ab1eb870c8a4942bc99db73d723f659",
       "IPY_MODEL_050b5ef402924081847a46c0c6dc5985"
      ],
      "layout": "IPY_MODEL_001e2bb0a89d41e9b6aa9280ad55f063"
     }
    },
    "3272e3e26dc14331b7cac6f0fea0bc36": {
     "model_module": "@jupyter-widgets/controls",
     "model_module_version": "1.5.0",
     "model_name": "HTMLModel",
     "state": {
      "_dom_classes": [],
      "_model_module": "@jupyter-widgets/controls",
      "_model_module_version": "1.5.0",
      "_model_name": "HTMLModel",
      "_view_count": null,
      "_view_module": "@jupyter-widgets/controls",
      "_view_module_version": "1.5.0",
      "_view_name": "HTMLView",
      "description": "",
      "description_tooltip": null,
      "layout": "IPY_MODEL_f6844220a96c46caa1bdb3a673da534f",
      "placeholder": "​",
      "style": "IPY_MODEL_051f32d2c1bf40bd9e269be3f73a74be",
      "value": "added_tokens.json: 100%"
     }
    },
    "346b3544032a475fadc9c0fdc6049eab": {
     "model_module": "@jupyter-widgets/base",
     "model_module_version": "1.2.0",
     "model_name": "LayoutModel",
     "state": {
      "_model_module": "@jupyter-widgets/base",
      "_model_module_version": "1.2.0",
      "_model_name": "LayoutModel",
      "_view_count": null,
      "_view_module": "@jupyter-widgets/base",
      "_view_module_version": "1.2.0",
      "_view_name": "LayoutView",
      "align_content": null,
      "align_items": null,
      "align_self": null,
      "border": null,
      "bottom": null,
      "display": null,
      "flex": null,
      "flex_flow": null,
      "grid_area": null,
      "grid_auto_columns": null,
      "grid_auto_flow": null,
      "grid_auto_rows": null,
      "grid_column": null,
      "grid_gap": null,
      "grid_row": null,
      "grid_template_areas": null,
      "grid_template_columns": null,
      "grid_template_rows": null,
      "height": null,
      "justify_content": null,
      "justify_items": null,
      "left": null,
      "margin": null,
      "max_height": null,
      "max_width": null,
      "min_height": null,
      "min_width": null,
      "object_fit": null,
      "object_position": null,
      "order": null,
      "overflow": null,
      "overflow_x": null,
      "overflow_y": null,
      "padding": null,
      "right": null,
      "top": null,
      "visibility": null,
      "width": null
     }
    },
    "3b36a53161634d1ebc86bbb59b8e2a4f": {
     "model_module": "@jupyter-widgets/base",
     "model_module_version": "1.2.0",
     "model_name": "LayoutModel",
     "state": {
      "_model_module": "@jupyter-widgets/base",
      "_model_module_version": "1.2.0",
      "_model_name": "LayoutModel",
      "_view_count": null,
      "_view_module": "@jupyter-widgets/base",
      "_view_module_version": "1.2.0",
      "_view_name": "LayoutView",
      "align_content": null,
      "align_items": null,
      "align_self": null,
      "border": null,
      "bottom": null,
      "display": null,
      "flex": null,
      "flex_flow": null,
      "grid_area": null,
      "grid_auto_columns": null,
      "grid_auto_flow": null,
      "grid_auto_rows": null,
      "grid_column": null,
      "grid_gap": null,
      "grid_row": null,
      "grid_template_areas": null,
      "grid_template_columns": null,
      "grid_template_rows": null,
      "height": null,
      "justify_content": null,
      "justify_items": null,
      "left": null,
      "margin": null,
      "max_height": null,
      "max_width": null,
      "min_height": null,
      "min_width": null,
      "object_fit": null,
      "object_position": null,
      "order": null,
      "overflow": null,
      "overflow_x": null,
      "overflow_y": null,
      "padding": null,
      "right": null,
      "top": null,
      "visibility": null,
      "width": null
     }
    },
    "3d447500bd6e49b892b7a2215360b5a5": {
     "model_module": "@jupyter-widgets/base",
     "model_module_version": "1.2.0",
     "model_name": "LayoutModel",
     "state": {
      "_model_module": "@jupyter-widgets/base",
      "_model_module_version": "1.2.0",
      "_model_name": "LayoutModel",
      "_view_count": null,
      "_view_module": "@jupyter-widgets/base",
      "_view_module_version": "1.2.0",
      "_view_name": "LayoutView",
      "align_content": null,
      "align_items": null,
      "align_self": null,
      "border": null,
      "bottom": null,
      "display": null,
      "flex": null,
      "flex_flow": null,
      "grid_area": null,
      "grid_auto_columns": null,
      "grid_auto_flow": null,
      "grid_auto_rows": null,
      "grid_column": null,
      "grid_gap": null,
      "grid_row": null,
      "grid_template_areas": null,
      "grid_template_columns": null,
      "grid_template_rows": null,
      "height": null,
      "justify_content": null,
      "justify_items": null,
      "left": null,
      "margin": null,
      "max_height": null,
      "max_width": null,
      "min_height": null,
      "min_width": null,
      "object_fit": null,
      "object_position": null,
      "order": null,
      "overflow": null,
      "overflow_x": null,
      "overflow_y": null,
      "padding": null,
      "right": null,
      "top": null,
      "visibility": null,
      "width": null
     }
    },
    "3ff0e775916e4c8da887a117728c604c": {
     "model_module": "@jupyter-widgets/base",
     "model_module_version": "1.2.0",
     "model_name": "LayoutModel",
     "state": {
      "_model_module": "@jupyter-widgets/base",
      "_model_module_version": "1.2.0",
      "_model_name": "LayoutModel",
      "_view_count": null,
      "_view_module": "@jupyter-widgets/base",
      "_view_module_version": "1.2.0",
      "_view_name": "LayoutView",
      "align_content": null,
      "align_items": null,
      "align_self": null,
      "border": null,
      "bottom": null,
      "display": null,
      "flex": null,
      "flex_flow": null,
      "grid_area": null,
      "grid_auto_columns": null,
      "grid_auto_flow": null,
      "grid_auto_rows": null,
      "grid_column": null,
      "grid_gap": null,
      "grid_row": null,
      "grid_template_areas": null,
      "grid_template_columns": null,
      "grid_template_rows": null,
      "height": null,
      "justify_content": null,
      "justify_items": null,
      "left": null,
      "margin": null,
      "max_height": null,
      "max_width": null,
      "min_height": null,
      "min_width": null,
      "object_fit": null,
      "object_position": null,
      "order": null,
      "overflow": null,
      "overflow_x": null,
      "overflow_y": null,
      "padding": null,
      "right": null,
      "top": null,
      "visibility": null,
      "width": null
     }
    },
    "45a689a7024243d3a7c3d2265c272e8d": {
     "model_module": "@jupyter-widgets/controls",
     "model_module_version": "1.5.0",
     "model_name": "HTMLModel",
     "state": {
      "_dom_classes": [],
      "_model_module": "@jupyter-widgets/controls",
      "_model_module_version": "1.5.0",
      "_model_name": "HTMLModel",
      "_view_count": null,
      "_view_module": "@jupyter-widgets/controls",
      "_view_module_version": "1.5.0",
      "_view_name": "HTMLView",
      "description": "",
      "description_tooltip": null,
      "layout": "IPY_MODEL_805204df415c4e2aada1366b7fec94ea",
      "placeholder": "​",
      "style": "IPY_MODEL_05a4343887d947d7ba85c7e4966113ae",
      "value": " 500k/500k [00:00&lt;00:00, 574kB/s]"
     }
    },
    "4646ae17db21490dae6d024d1fa1d1f9": {
     "model_module": "@jupyter-widgets/controls",
     "model_module_version": "1.5.0",
     "model_name": "DescriptionStyleModel",
     "state": {
      "_model_module": "@jupyter-widgets/controls",
      "_model_module_version": "1.5.0",
      "_model_name": "DescriptionStyleModel",
      "_view_count": null,
      "_view_module": "@jupyter-widgets/base",
      "_view_module_version": "1.2.0",
      "_view_name": "StyleView",
      "description_width": ""
     }
    },
    "490d23257adb40cab16051b2982b7990": {
     "model_module": "@jupyter-widgets/base",
     "model_module_version": "1.2.0",
     "model_name": "LayoutModel",
     "state": {
      "_model_module": "@jupyter-widgets/base",
      "_model_module_version": "1.2.0",
      "_model_name": "LayoutModel",
      "_view_count": null,
      "_view_module": "@jupyter-widgets/base",
      "_view_module_version": "1.2.0",
      "_view_name": "LayoutView",
      "align_content": null,
      "align_items": null,
      "align_self": null,
      "border": null,
      "bottom": null,
      "display": null,
      "flex": null,
      "flex_flow": null,
      "grid_area": null,
      "grid_auto_columns": null,
      "grid_auto_flow": null,
      "grid_auto_rows": null,
      "grid_column": null,
      "grid_gap": null,
      "grid_row": null,
      "grid_template_areas": null,
      "grid_template_columns": null,
      "grid_template_rows": null,
      "height": null,
      "justify_content": null,
      "justify_items": null,
      "left": null,
      "margin": null,
      "max_height": null,
      "max_width": null,
      "min_height": null,
      "min_width": null,
      "object_fit": null,
      "object_position": null,
      "order": null,
      "overflow": null,
      "overflow_x": null,
      "overflow_y": null,
      "padding": null,
      "right": null,
      "top": null,
      "visibility": null,
      "width": null
     }
    },
    "49584303ce4a40b0ad10e75703adcc6c": {
     "model_module": "@jupyter-widgets/controls",
     "model_module_version": "1.5.0",
     "model_name": "HTMLModel",
     "state": {
      "_dom_classes": [],
      "_model_module": "@jupyter-widgets/controls",
      "_model_module_version": "1.5.0",
      "_model_name": "HTMLModel",
      "_view_count": null,
      "_view_module": "@jupyter-widgets/controls",
      "_view_module_version": "1.5.0",
      "_view_name": "HTMLView",
      "description": "",
      "description_tooltip": null,
      "layout": "IPY_MODEL_e02c90ef979b40e289d0e0d5a373df49",
      "placeholder": "​",
      "style": "IPY_MODEL_6a85a0cf4384496d8519ad68acef5816",
      "value": " 435/435 [00:00&lt;00:00, 14.5kB/s]"
     }
    },
    "4999a10141364b8ab18839320bffd6ed": {
     "model_module": "@jupyter-widgets/controls",
     "model_module_version": "1.5.0",
     "model_name": "HTMLModel",
     "state": {
      "_dom_classes": [],
      "_model_module": "@jupyter-widgets/controls",
      "_model_module_version": "1.5.0",
      "_model_name": "HTMLModel",
      "_view_count": null,
      "_view_module": "@jupyter-widgets/controls",
      "_view_module_version": "1.5.0",
      "_view_name": "HTMLView",
      "description": "",
      "description_tooltip": null,
      "layout": "IPY_MODEL_a1f4feb0f44b47e1b3c6f72b8b8f8bcb",
      "placeholder": "​",
      "style": "IPY_MODEL_6e8d9fbb287241ce9415bf4b88989226",
      "value": " 746/746 [00:00&lt;00:00, 16.9kB/s]"
     }
    },
    "4b4cc248d49648539b78d6c82b389353": {
     "model_module": "@jupyter-widgets/controls",
     "model_module_version": "1.5.0",
     "model_name": "ProgressStyleModel",
     "state": {
      "_model_module": "@jupyter-widgets/controls",
      "_model_module_version": "1.5.0",
      "_model_name": "ProgressStyleModel",
      "_view_count": null,
      "_view_module": "@jupyter-widgets/base",
      "_view_module_version": "1.2.0",
      "_view_name": "StyleView",
      "bar_color": null,
      "description_width": ""
     }
    },
    "54a02369c6b8491cb9d148401985ef96": {
     "model_module": "@jupyter-widgets/base",
     "model_module_version": "1.2.0",
     "model_name": "LayoutModel",
     "state": {
      "_model_module": "@jupyter-widgets/base",
      "_model_module_version": "1.2.0",
      "_model_name": "LayoutModel",
      "_view_count": null,
      "_view_module": "@jupyter-widgets/base",
      "_view_module_version": "1.2.0",
      "_view_name": "LayoutView",
      "align_content": null,
      "align_items": null,
      "align_self": null,
      "border": null,
      "bottom": null,
      "display": null,
      "flex": null,
      "flex_flow": null,
      "grid_area": null,
      "grid_auto_columns": null,
      "grid_auto_flow": null,
      "grid_auto_rows": null,
      "grid_column": null,
      "grid_gap": null,
      "grid_row": null,
      "grid_template_areas": null,
      "grid_template_columns": null,
      "grid_template_rows": null,
      "height": null,
      "justify_content": null,
      "justify_items": null,
      "left": null,
      "margin": null,
      "max_height": null,
      "max_width": null,
      "min_height": null,
      "min_width": null,
      "object_fit": null,
      "object_position": null,
      "order": null,
      "overflow": null,
      "overflow_x": null,
      "overflow_y": null,
      "padding": null,
      "right": null,
      "top": null,
      "visibility": null,
      "width": null
     }
    },
    "5c2e730f8e694d81bd78b61364d19d28": {
     "model_module": "@jupyter-widgets/base",
     "model_module_version": "1.2.0",
     "model_name": "LayoutModel",
     "state": {
      "_model_module": "@jupyter-widgets/base",
      "_model_module_version": "1.2.0",
      "_model_name": "LayoutModel",
      "_view_count": null,
      "_view_module": "@jupyter-widgets/base",
      "_view_module_version": "1.2.0",
      "_view_name": "LayoutView",
      "align_content": null,
      "align_items": null,
      "align_self": null,
      "border": null,
      "bottom": null,
      "display": null,
      "flex": null,
      "flex_flow": null,
      "grid_area": null,
      "grid_auto_columns": null,
      "grid_auto_flow": null,
      "grid_auto_rows": null,
      "grid_column": null,
      "grid_gap": null,
      "grid_row": null,
      "grid_template_areas": null,
      "grid_template_columns": null,
      "grid_template_rows": null,
      "height": null,
      "justify_content": null,
      "justify_items": null,
      "left": null,
      "margin": null,
      "max_height": null,
      "max_width": null,
      "min_height": null,
      "min_width": null,
      "object_fit": null,
      "object_position": null,
      "order": null,
      "overflow": null,
      "overflow_x": null,
      "overflow_y": null,
      "padding": null,
      "right": null,
      "top": null,
      "visibility": null,
      "width": null
     }
    },
    "5e9f19d874ba42d3b63b7f8b17ea73cb": {
     "model_module": "@jupyter-widgets/base",
     "model_module_version": "1.2.0",
     "model_name": "LayoutModel",
     "state": {
      "_model_module": "@jupyter-widgets/base",
      "_model_module_version": "1.2.0",
      "_model_name": "LayoutModel",
      "_view_count": null,
      "_view_module": "@jupyter-widgets/base",
      "_view_module_version": "1.2.0",
      "_view_name": "LayoutView",
      "align_content": null,
      "align_items": null,
      "align_self": null,
      "border": null,
      "bottom": null,
      "display": null,
      "flex": null,
      "flex_flow": null,
      "grid_area": null,
      "grid_auto_columns": null,
      "grid_auto_flow": null,
      "grid_auto_rows": null,
      "grid_column": null,
      "grid_gap": null,
      "grid_row": null,
      "grid_template_areas": null,
      "grid_template_columns": null,
      "grid_template_rows": null,
      "height": null,
      "justify_content": null,
      "justify_items": null,
      "left": null,
      "margin": null,
      "max_height": null,
      "max_width": null,
      "min_height": null,
      "min_width": null,
      "object_fit": null,
      "object_position": null,
      "order": null,
      "overflow": null,
      "overflow_x": null,
      "overflow_y": null,
      "padding": null,
      "right": null,
      "top": null,
      "visibility": null,
      "width": null
     }
    },
    "61b6e1279a1745fd94ba8c68c513c2c4": {
     "model_module": "@jupyter-widgets/controls",
     "model_module_version": "1.5.0",
     "model_name": "DescriptionStyleModel",
     "state": {
      "_model_module": "@jupyter-widgets/controls",
      "_model_module_version": "1.5.0",
      "_model_name": "DescriptionStyleModel",
      "_view_count": null,
      "_view_module": "@jupyter-widgets/base",
      "_view_module_version": "1.2.0",
      "_view_name": "StyleView",
      "description_width": ""
     }
    },
    "6a85a0cf4384496d8519ad68acef5816": {
     "model_module": "@jupyter-widgets/controls",
     "model_module_version": "1.5.0",
     "model_name": "DescriptionStyleModel",
     "state": {
      "_model_module": "@jupyter-widgets/controls",
      "_model_module_version": "1.5.0",
      "_model_name": "DescriptionStyleModel",
      "_view_count": null,
      "_view_module": "@jupyter-widgets/base",
      "_view_module_version": "1.2.0",
      "_view_name": "StyleView",
      "description_width": ""
     }
    },
    "6e8d9fbb287241ce9415bf4b88989226": {
     "model_module": "@jupyter-widgets/controls",
     "model_module_version": "1.5.0",
     "model_name": "DescriptionStyleModel",
     "state": {
      "_model_module": "@jupyter-widgets/controls",
      "_model_module_version": "1.5.0",
      "_model_name": "DescriptionStyleModel",
      "_view_count": null,
      "_view_module": "@jupyter-widgets/base",
      "_view_module_version": "1.2.0",
      "_view_name": "StyleView",
      "description_width": ""
     }
    },
    "70766048465b44c0b3a343d3dda36482": {
     "model_module": "@jupyter-widgets/controls",
     "model_module_version": "1.5.0",
     "model_name": "DescriptionStyleModel",
     "state": {
      "_model_module": "@jupyter-widgets/controls",
      "_model_module_version": "1.5.0",
      "_model_name": "DescriptionStyleModel",
      "_view_count": null,
      "_view_module": "@jupyter-widgets/base",
      "_view_module_version": "1.2.0",
      "_view_name": "StyleView",
      "description_width": ""
     }
    },
    "755217e6353f4902bf23debc8625a734": {
     "model_module": "@jupyter-widgets/controls",
     "model_module_version": "1.5.0",
     "model_name": "FloatProgressModel",
     "state": {
      "_dom_classes": [],
      "_model_module": "@jupyter-widgets/controls",
      "_model_module_version": "1.5.0",
      "_model_name": "FloatProgressModel",
      "_view_count": null,
      "_view_module": "@jupyter-widgets/controls",
      "_view_module_version": "1.5.0",
      "_view_name": "ProgressView",
      "bar_style": "success",
      "description": "",
      "description_tooltip": null,
      "layout": "IPY_MODEL_5c2e730f8e694d81bd78b61364d19d28",
      "max": 435,
      "min": 0,
      "orientation": "horizontal",
      "style": "IPY_MODEL_8dda5ca9aa9140adba5205dcb668c8a0",
      "value": 435
     }
    },
    "805204df415c4e2aada1366b7fec94ea": {
     "model_module": "@jupyter-widgets/base",
     "model_module_version": "1.2.0",
     "model_name": "LayoutModel",
     "state": {
      "_model_module": "@jupyter-widgets/base",
      "_model_module_version": "1.2.0",
      "_model_name": "LayoutModel",
      "_view_count": null,
      "_view_module": "@jupyter-widgets/base",
      "_view_module_version": "1.2.0",
      "_view_name": "LayoutView",
      "align_content": null,
      "align_items": null,
      "align_self": null,
      "border": null,
      "bottom": null,
      "display": null,
      "flex": null,
      "flex_flow": null,
      "grid_area": null,
      "grid_auto_columns": null,
      "grid_auto_flow": null,
      "grid_auto_rows": null,
      "grid_column": null,
      "grid_gap": null,
      "grid_row": null,
      "grid_template_areas": null,
      "grid_template_columns": null,
      "grid_template_rows": null,
      "height": null,
      "justify_content": null,
      "justify_items": null,
      "left": null,
      "margin": null,
      "max_height": null,
      "max_width": null,
      "min_height": null,
      "min_width": null,
      "object_fit": null,
      "object_position": null,
      "order": null,
      "overflow": null,
      "overflow_x": null,
      "overflow_y": null,
      "padding": null,
      "right": null,
      "top": null,
      "visibility": null,
      "width": null
     }
    },
    "829757d3e5174cefbfae580ca6036e37": {
     "model_module": "@jupyter-widgets/controls",
     "model_module_version": "1.5.0",
     "model_name": "FloatProgressModel",
     "state": {
      "_dom_classes": [],
      "_model_module": "@jupyter-widgets/controls",
      "_model_module_version": "1.5.0",
      "_model_name": "FloatProgressModel",
      "_view_count": null,
      "_view_module": "@jupyter-widgets/controls",
      "_view_module_version": "1.5.0",
      "_view_name": "ProgressView",
      "bar_style": "success",
      "description": "",
      "description_tooltip": null,
      "layout": "IPY_MODEL_5e9f19d874ba42d3b63b7f8b17ea73cb",
      "max": 5,
      "min": 0,
      "orientation": "horizontal",
      "style": "IPY_MODEL_08d61ff53e88466da8c2112a0539eddf",
      "value": 5
     }
    },
    "862ae1541542421bbd5f359f9d0e717d": {
     "model_module": "@jupyter-widgets/base",
     "model_module_version": "1.2.0",
     "model_name": "LayoutModel",
     "state": {
      "_model_module": "@jupyter-widgets/base",
      "_model_module_version": "1.2.0",
      "_model_name": "LayoutModel",
      "_view_count": null,
      "_view_module": "@jupyter-widgets/base",
      "_view_module_version": "1.2.0",
      "_view_name": "LayoutView",
      "align_content": null,
      "align_items": null,
      "align_self": null,
      "border": null,
      "bottom": null,
      "display": null,
      "flex": null,
      "flex_flow": null,
      "grid_area": null,
      "grid_auto_columns": null,
      "grid_auto_flow": null,
      "grid_auto_rows": null,
      "grid_column": null,
      "grid_gap": null,
      "grid_row": null,
      "grid_template_areas": null,
      "grid_template_columns": null,
      "grid_template_rows": null,
      "height": null,
      "justify_content": null,
      "justify_items": null,
      "left": null,
      "margin": null,
      "max_height": null,
      "max_width": null,
      "min_height": null,
      "min_width": null,
      "object_fit": null,
      "object_position": null,
      "order": null,
      "overflow": null,
      "overflow_x": null,
      "overflow_y": null,
      "padding": null,
      "right": null,
      "top": null,
      "visibility": null,
      "width": null
     }
    },
    "8a468e6ee5e5483e9dfe6c5c8ff845b0": {
     "model_module": "@jupyter-widgets/base",
     "model_module_version": "1.2.0",
     "model_name": "LayoutModel",
     "state": {
      "_model_module": "@jupyter-widgets/base",
      "_model_module_version": "1.2.0",
      "_model_name": "LayoutModel",
      "_view_count": null,
      "_view_module": "@jupyter-widgets/base",
      "_view_module_version": "1.2.0",
      "_view_name": "LayoutView",
      "align_content": null,
      "align_items": null,
      "align_self": null,
      "border": null,
      "bottom": null,
      "display": null,
      "flex": null,
      "flex_flow": null,
      "grid_area": null,
      "grid_auto_columns": null,
      "grid_auto_flow": null,
      "grid_auto_rows": null,
      "grid_column": null,
      "grid_gap": null,
      "grid_row": null,
      "grid_template_areas": null,
      "grid_template_columns": null,
      "grid_template_rows": null,
      "height": null,
      "justify_content": null,
      "justify_items": null,
      "left": null,
      "margin": null,
      "max_height": null,
      "max_width": null,
      "min_height": null,
      "min_width": null,
      "object_fit": null,
      "object_position": null,
      "order": null,
      "overflow": null,
      "overflow_x": null,
      "overflow_y": null,
      "padding": null,
      "right": null,
      "top": null,
      "visibility": null,
      "width": null
     }
    },
    "8ab1eb870c8a4942bc99db73d723f659": {
     "model_module": "@jupyter-widgets/controls",
     "model_module_version": "1.5.0",
     "model_name": "FloatProgressModel",
     "state": {
      "_dom_classes": [],
      "_model_module": "@jupyter-widgets/controls",
      "_model_module_version": "1.5.0",
      "_model_name": "FloatProgressModel",
      "_view_count": null,
      "_view_module": "@jupyter-widgets/controls",
      "_view_module_version": "1.5.0",
      "_view_name": "ProgressView",
      "bar_style": "success",
      "description": "",
      "description_tooltip": null,
      "layout": "IPY_MODEL_9f960cba4b92495cb01a2586a622deaa",
      "max": 21,
      "min": 0,
      "orientation": "horizontal",
      "style": "IPY_MODEL_dc84beff92194850b193fb4a5d0df46b",
      "value": 21
     }
    },
    "8dda5ca9aa9140adba5205dcb668c8a0": {
     "model_module": "@jupyter-widgets/controls",
     "model_module_version": "1.5.0",
     "model_name": "ProgressStyleModel",
     "state": {
      "_model_module": "@jupyter-widgets/controls",
      "_model_module_version": "1.5.0",
      "_model_name": "ProgressStyleModel",
      "_view_count": null,
      "_view_module": "@jupyter-widgets/base",
      "_view_module_version": "1.2.0",
      "_view_name": "StyleView",
      "bar_color": null,
      "description_width": ""
     }
    },
    "97229a811297410db94d6aca18d1f392": {
     "model_module": "@jupyter-widgets/controls",
     "model_module_version": "1.5.0",
     "model_name": "HTMLModel",
     "state": {
      "_dom_classes": [],
      "_model_module": "@jupyter-widgets/controls",
      "_model_module_version": "1.5.0",
      "_model_name": "HTMLModel",
      "_view_count": null,
      "_view_module": "@jupyter-widgets/controls",
      "_view_module_version": "1.5.0",
      "_view_name": "HTMLView",
      "description": "",
      "description_tooltip": null,
      "layout": "IPY_MODEL_3b36a53161634d1ebc86bbb59b8e2a4f",
      "placeholder": "​",
      "style": "IPY_MODEL_258526fc9c1d44c59100a35defc1b478",
      "value": " 5/5 [00:09&lt;00:00,  1.71s/it]"
     }
    },
    "9b8aba5af6af42c0a3377c7676fc73cb": {
     "model_module": "@jupyter-widgets/controls",
     "model_module_version": "1.5.0",
     "model_name": "HTMLModel",
     "state": {
      "_dom_classes": [],
      "_model_module": "@jupyter-widgets/controls",
      "_model_module_version": "1.5.0",
      "_model_name": "HTMLModel",
      "_view_count": null,
      "_view_module": "@jupyter-widgets/controls",
      "_view_module_version": "1.5.0",
      "_view_name": "HTMLView",
      "description": "",
      "description_tooltip": null,
      "layout": "IPY_MODEL_f6e1698b96914a92abc612c511bd3ba9",
      "placeholder": "​",
      "style": "IPY_MODEL_ba309009b20343e59c061c5fd7b8a150",
      "value": "tokenizer.model: 100%"
     }
    },
    "9f960cba4b92495cb01a2586a622deaa": {
     "model_module": "@jupyter-widgets/base",
     "model_module_version": "1.2.0",
     "model_name": "LayoutModel",
     "state": {
      "_model_module": "@jupyter-widgets/base",
      "_model_module_version": "1.2.0",
      "_model_name": "LayoutModel",
      "_view_count": null,
      "_view_module": "@jupyter-widgets/base",
      "_view_module_version": "1.2.0",
      "_view_name": "LayoutView",
      "align_content": null,
      "align_items": null,
      "align_self": null,
      "border": null,
      "bottom": null,
      "display": null,
      "flex": null,
      "flex_flow": null,
      "grid_area": null,
      "grid_auto_columns": null,
      "grid_auto_flow": null,
      "grid_auto_rows": null,
      "grid_column": null,
      "grid_gap": null,
      "grid_row": null,
      "grid_template_areas": null,
      "grid_template_columns": null,
      "grid_template_rows": null,
      "height": null,
      "justify_content": null,
      "justify_items": null,
      "left": null,
      "margin": null,
      "max_height": null,
      "max_width": null,
      "min_height": null,
      "min_width": null,
      "object_fit": null,
      "object_position": null,
      "order": null,
      "overflow": null,
      "overflow_x": null,
      "overflow_y": null,
      "padding": null,
      "right": null,
      "top": null,
      "visibility": null,
      "width": null
     }
    },
    "a1bb86a49a5845c6a3bb936dfa257b38": {
     "model_module": "@jupyter-widgets/controls",
     "model_module_version": "1.5.0",
     "model_name": "FloatProgressModel",
     "state": {
      "_dom_classes": [],
      "_model_module": "@jupyter-widgets/controls",
      "_model_module_version": "1.5.0",
      "_model_name": "FloatProgressModel",
      "_view_count": null,
      "_view_module": "@jupyter-widgets/controls",
      "_view_module_version": "1.5.0",
      "_view_name": "ProgressView",
      "bar_style": "success",
      "description": "",
      "description_tooltip": null,
      "layout": "IPY_MODEL_3d447500bd6e49b892b7a2215360b5a5",
      "max": 499723,
      "min": 0,
      "orientation": "horizontal",
      "style": "IPY_MODEL_ebfc7b152a224333bfc77090c2ef934c",
      "value": 499723
     }
    },
    "a1f4feb0f44b47e1b3c6f72b8b8f8bcb": {
     "model_module": "@jupyter-widgets/base",
     "model_module_version": "1.2.0",
     "model_name": "LayoutModel",
     "state": {
      "_model_module": "@jupyter-widgets/base",
      "_model_module_version": "1.2.0",
      "_model_name": "LayoutModel",
      "_view_count": null,
      "_view_module": "@jupyter-widgets/base",
      "_view_module_version": "1.2.0",
      "_view_name": "LayoutView",
      "align_content": null,
      "align_items": null,
      "align_self": null,
      "border": null,
      "bottom": null,
      "display": null,
      "flex": null,
      "flex_flow": null,
      "grid_area": null,
      "grid_auto_columns": null,
      "grid_auto_flow": null,
      "grid_auto_rows": null,
      "grid_column": null,
      "grid_gap": null,
      "grid_row": null,
      "grid_template_areas": null,
      "grid_template_columns": null,
      "grid_template_rows": null,
      "height": null,
      "justify_content": null,
      "justify_items": null,
      "left": null,
      "margin": null,
      "max_height": null,
      "max_width": null,
      "min_height": null,
      "min_width": null,
      "object_fit": null,
      "object_position": null,
      "order": null,
      "overflow": null,
      "overflow_x": null,
      "overflow_y": null,
      "padding": null,
      "right": null,
      "top": null,
      "visibility": null,
      "width": null
     }
    },
    "ad27a257e4f647b89d809e47d470f79f": {
     "model_module": "@jupyter-widgets/controls",
     "model_module_version": "1.5.0",
     "model_name": "FloatProgressModel",
     "state": {
      "_dom_classes": [],
      "_model_module": "@jupyter-widgets/controls",
      "_model_module_version": "1.5.0",
      "_model_name": "FloatProgressModel",
      "_view_count": null,
      "_view_module": "@jupyter-widgets/controls",
      "_view_module_version": "1.5.0",
      "_view_name": "ProgressView",
      "bar_style": "success",
      "description": "",
      "description_tooltip": null,
      "layout": "IPY_MODEL_2178111bcc3240159c12e8d4b81d35df",
      "max": 746,
      "min": 0,
      "orientation": "horizontal",
      "style": "IPY_MODEL_4b4cc248d49648539b78d6c82b389353",
      "value": 746
     }
    },
    "af6ad6bf16e646d5a0567ddfa73c6ca5": {
     "model_module": "@jupyter-widgets/controls",
     "model_module_version": "1.5.0",
     "model_name": "HBoxModel",
     "state": {
      "_dom_classes": [],
      "_model_module": "@jupyter-widgets/controls",
      "_model_module_version": "1.5.0",
      "_model_name": "HBoxModel",
      "_view_count": null,
      "_view_module": "@jupyter-widgets/controls",
      "_view_module_version": "1.5.0",
      "_view_name": "HBoxView",
      "box_style": "",
      "children": [
       "IPY_MODEL_b61c0f80b9f94fd9bf57deabbd5495a9",
       "IPY_MODEL_829757d3e5174cefbfae580ca6036e37",
       "IPY_MODEL_97229a811297410db94d6aca18d1f392"
      ],
      "layout": "IPY_MODEL_346b3544032a475fadc9c0fdc6049eab"
     }
    },
    "b61c0f80b9f94fd9bf57deabbd5495a9": {
     "model_module": "@jupyter-widgets/controls",
     "model_module_version": "1.5.0",
     "model_name": "HTMLModel",
     "state": {
      "_dom_classes": [],
      "_model_module": "@jupyter-widgets/controls",
      "_model_module_version": "1.5.0",
      "_model_name": "HTMLModel",
      "_view_count": null,
      "_view_module": "@jupyter-widgets/controls",
      "_view_module_version": "1.5.0",
      "_view_name": "HTMLView",
      "description": "",
      "description_tooltip": null,
      "layout": "IPY_MODEL_490d23257adb40cab16051b2982b7990",
      "placeholder": "​",
      "style": "IPY_MODEL_4646ae17db21490dae6d024d1fa1d1f9",
      "value": "Loading checkpoint shards: 100%"
     }
    },
    "b755ac8bc04349c39e0dc5fc6cb4ac88": {
     "model_module": "@jupyter-widgets/controls",
     "model_module_version": "1.5.0",
     "model_name": "HTMLModel",
     "state": {
      "_dom_classes": [],
      "_model_module": "@jupyter-widgets/controls",
      "_model_module_version": "1.5.0",
      "_model_name": "HTMLModel",
      "_view_count": null,
      "_view_module": "@jupyter-widgets/controls",
      "_view_module_version": "1.5.0",
      "_view_name": "HTMLView",
      "description": "",
      "description_tooltip": null,
      "layout": "IPY_MODEL_3ff0e775916e4c8da887a117728c604c",
      "placeholder": "​",
      "style": "IPY_MODEL_f710b0def2af4728aa9516a0e54eb705",
      "value": "tokenizer_config.json: 100%"
     }
    },
    "b8a19e7cda0d47ccbe8ce81a08ec6c42": {
     "model_module": "@jupyter-widgets/controls",
     "model_module_version": "1.5.0",
     "model_name": "HBoxModel",
     "state": {
      "_dom_classes": [],
      "_model_module": "@jupyter-widgets/controls",
      "_model_module_version": "1.5.0",
      "_model_name": "HBoxModel",
      "_view_count": null,
      "_view_module": "@jupyter-widgets/controls",
      "_view_module_version": "1.5.0",
      "_view_name": "HBoxView",
      "box_style": "",
      "children": [
       "IPY_MODEL_9b8aba5af6af42c0a3377c7676fc73cb",
       "IPY_MODEL_a1bb86a49a5845c6a3bb936dfa257b38",
       "IPY_MODEL_45a689a7024243d3a7c3d2265c272e8d"
      ],
      "layout": "IPY_MODEL_8a468e6ee5e5483e9dfe6c5c8ff845b0"
     }
    },
    "ba309009b20343e59c061c5fd7b8a150": {
     "model_module": "@jupyter-widgets/controls",
     "model_module_version": "1.5.0",
     "model_name": "DescriptionStyleModel",
     "state": {
      "_model_module": "@jupyter-widgets/controls",
      "_model_module_version": "1.5.0",
      "_model_name": "DescriptionStyleModel",
      "_view_count": null,
      "_view_module": "@jupyter-widgets/base",
      "_view_module_version": "1.2.0",
      "_view_name": "StyleView",
      "description_width": ""
     }
    },
    "dc84beff92194850b193fb4a5d0df46b": {
     "model_module": "@jupyter-widgets/controls",
     "model_module_version": "1.5.0",
     "model_name": "ProgressStyleModel",
     "state": {
      "_model_module": "@jupyter-widgets/controls",
      "_model_module_version": "1.5.0",
      "_model_name": "ProgressStyleModel",
      "_view_count": null,
      "_view_module": "@jupyter-widgets/base",
      "_view_module_version": "1.2.0",
      "_view_name": "StyleView",
      "bar_color": null,
      "description_width": ""
     }
    },
    "e02c90ef979b40e289d0e0d5a373df49": {
     "model_module": "@jupyter-widgets/base",
     "model_module_version": "1.2.0",
     "model_name": "LayoutModel",
     "state": {
      "_model_module": "@jupyter-widgets/base",
      "_model_module_version": "1.2.0",
      "_model_name": "LayoutModel",
      "_view_count": null,
      "_view_module": "@jupyter-widgets/base",
      "_view_module_version": "1.2.0",
      "_view_name": "LayoutView",
      "align_content": null,
      "align_items": null,
      "align_self": null,
      "border": null,
      "bottom": null,
      "display": null,
      "flex": null,
      "flex_flow": null,
      "grid_area": null,
      "grid_auto_columns": null,
      "grid_auto_flow": null,
      "grid_auto_rows": null,
      "grid_column": null,
      "grid_gap": null,
      "grid_row": null,
      "grid_template_areas": null,
      "grid_template_columns": null,
      "grid_template_rows": null,
      "height": null,
      "justify_content": null,
      "justify_items": null,
      "left": null,
      "margin": null,
      "max_height": null,
      "max_width": null,
      "min_height": null,
      "min_width": null,
      "object_fit": null,
      "object_position": null,
      "order": null,
      "overflow": null,
      "overflow_x": null,
      "overflow_y": null,
      "padding": null,
      "right": null,
      "top": null,
      "visibility": null,
      "width": null
     }
    },
    "ebfc7b152a224333bfc77090c2ef934c": {
     "model_module": "@jupyter-widgets/controls",
     "model_module_version": "1.5.0",
     "model_name": "ProgressStyleModel",
     "state": {
      "_model_module": "@jupyter-widgets/controls",
      "_model_module_version": "1.5.0",
      "_model_name": "ProgressStyleModel",
      "_view_count": null,
      "_view_module": "@jupyter-widgets/base",
      "_view_module_version": "1.2.0",
      "_view_name": "StyleView",
      "bar_color": null,
      "description_width": ""
     }
    },
    "f6844220a96c46caa1bdb3a673da534f": {
     "model_module": "@jupyter-widgets/base",
     "model_module_version": "1.2.0",
     "model_name": "LayoutModel",
     "state": {
      "_model_module": "@jupyter-widgets/base",
      "_model_module_version": "1.2.0",
      "_model_name": "LayoutModel",
      "_view_count": null,
      "_view_module": "@jupyter-widgets/base",
      "_view_module_version": "1.2.0",
      "_view_name": "LayoutView",
      "align_content": null,
      "align_items": null,
      "align_self": null,
      "border": null,
      "bottom": null,
      "display": null,
      "flex": null,
      "flex_flow": null,
      "grid_area": null,
      "grid_auto_columns": null,
      "grid_auto_flow": null,
      "grid_auto_rows": null,
      "grid_column": null,
      "grid_gap": null,
      "grid_row": null,
      "grid_template_areas": null,
      "grid_template_columns": null,
      "grid_template_rows": null,
      "height": null,
      "justify_content": null,
      "justify_items": null,
      "left": null,
      "margin": null,
      "max_height": null,
      "max_width": null,
      "min_height": null,
      "min_width": null,
      "object_fit": null,
      "object_position": null,
      "order": null,
      "overflow": null,
      "overflow_x": null,
      "overflow_y": null,
      "padding": null,
      "right": null,
      "top": null,
      "visibility": null,
      "width": null
     }
    },
    "f6e1698b96914a92abc612c511bd3ba9": {
     "model_module": "@jupyter-widgets/base",
     "model_module_version": "1.2.0",
     "model_name": "LayoutModel",
     "state": {
      "_model_module": "@jupyter-widgets/base",
      "_model_module_version": "1.2.0",
      "_model_name": "LayoutModel",
      "_view_count": null,
      "_view_module": "@jupyter-widgets/base",
      "_view_module_version": "1.2.0",
      "_view_name": "LayoutView",
      "align_content": null,
      "align_items": null,
      "align_self": null,
      "border": null,
      "bottom": null,
      "display": null,
      "flex": null,
      "flex_flow": null,
      "grid_area": null,
      "grid_auto_columns": null,
      "grid_auto_flow": null,
      "grid_auto_rows": null,
      "grid_column": null,
      "grid_gap": null,
      "grid_row": null,
      "grid_template_areas": null,
      "grid_template_columns": null,
      "grid_template_rows": null,
      "height": null,
      "justify_content": null,
      "justify_items": null,
      "left": null,
      "margin": null,
      "max_height": null,
      "max_width": null,
      "min_height": null,
      "min_width": null,
      "object_fit": null,
      "object_position": null,
      "order": null,
      "overflow": null,
      "overflow_x": null,
      "overflow_y": null,
      "padding": null,
      "right": null,
      "top": null,
      "visibility": null,
      "width": null
     }
    },
    "f710b0def2af4728aa9516a0e54eb705": {
     "model_module": "@jupyter-widgets/controls",
     "model_module_version": "1.5.0",
     "model_name": "DescriptionStyleModel",
     "state": {
      "_model_module": "@jupyter-widgets/controls",
      "_model_module_version": "1.5.0",
      "_model_name": "DescriptionStyleModel",
      "_view_count": null,
      "_view_module": "@jupyter-widgets/base",
      "_view_module_version": "1.2.0",
      "_view_name": "StyleView",
      "description_width": ""
     }
    }
   }
  }
 },
 "nbformat": 4,
 "nbformat_minor": 4
}
